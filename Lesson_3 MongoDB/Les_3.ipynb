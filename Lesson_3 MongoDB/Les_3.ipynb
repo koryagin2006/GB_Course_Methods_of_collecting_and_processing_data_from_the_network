{
 "cells": [
  {
   "cell_type": "markdown",
   "metadata": {},
   "source": [
    "Подключение библиотек"
   ]
  },
  {
   "cell_type": "code",
   "execution_count": 33,
   "metadata": {},
   "outputs": [],
   "source": [
    "from pymongo import MongoClient\n",
    "from pprint import pprint"
   ]
  },
  {
   "cell_type": "markdown",
   "metadata": {},
   "source": [
    "Далее, создаем клиента для подключения к серверу. Сервер в нашем примере запущен локально без изменений параметров по умолчанию:"
   ]
  },
  {
   "cell_type": "code",
   "execution_count": 12,
   "metadata": {},
   "outputs": [],
   "source": [
    "client = MongoClient('localhost', 27017)"
   ]
  },
  {
   "cell_type": "markdown",
   "metadata": {},
   "source": [
    "Один клиент может работать с несколькими независимыми базами данных. Когда работаем с PyMongo, нам необходимо подключиться к базе данных, указав ее имя:"
   ]
  },
  {
   "cell_type": "code",
   "execution_count": 13,
   "metadata": {},
   "outputs": [],
   "source": [
    "db = client['test_database']"
   ]
  },
  {
   "cell_type": "markdown",
   "metadata": {},
   "source": [
    "В рамках одной базы данных мы можем работать с несколькими коллекциями. Создадим указатель на коллекцию, чтобы проще было обращаться к ней:\n",
    "collection = db.test_collection"
   ]
  },
  {
   "cell_type": "code",
   "execution_count": 2,
   "metadata": {},
   "outputs": [],
   "source": [
    "collection = db.test_collection"
   ]
  },
  {
   "cell_type": "markdown",
   "metadata": {},
   "source": [
    "## Операции CRUD\n",
    "CRUD операции - это создание (Create), чтение (Read), обновление (Update), Удаление (Delete)"
   ]
  },
  {
   "cell_type": "markdown",
   "metadata": {},
   "source": [
    "### Операции Create\n",
    "Операции Create (или их иногда называют Insert) добавляют новый документ в коллекцию. MongoDB предоставляет следующие методы для того, чтобы добавить новые документы в коллекцию:\n",
    "```python\n",
    "db.collection.insertOne() \n",
    "db.collection.insertMany()\n",
    "```"
   ]
  },
  {
   "cell_type": "markdown",
   "metadata": {},
   "source": [
    "Особенности при создании/добавлении нового документа:\n",
    "1. Если коллекция, указанная при создании документа не существует, то она создается.\n",
    "2. В MongoDB, каждый документ, записываемый в коллекцию должен иметь поле _id с уникальным значением, которое выступает как первичный ключ. Если добавляемый документ не имеет данного поля, MongoDb автоматически сгенерирует ObjectId для данного поля _id\n",
    "3. В MongoDB операции insert всегда работают только с одной коллекцией. Нельзя вставить документ сразу в несколько коллекций, используя метод один раз. Также важно понимать, что все операции записи в БД атомарны на уровне одного документа"
   ]
  },
  {
   "cell_type": "markdown",
   "metadata": {},
   "source": [
    "#### `db.collection.insertOne()` добавляет один документ в коллекцию, переданный в качестве параметра метода:"
   ]
  },
  {
   "cell_type": "code",
   "execution_count": 17,
   "metadata": {},
   "outputs": [
    {
     "data": {
      "text/plain": [
       "<pymongo.results.InsertOneResult at 0x21f8e9cb1c8>"
      ]
     },
     "execution_count": 17,
     "metadata": {},
     "output_type": "execute_result"
    }
   ],
   "source": [
    "collection.insert_one(\n",
    "   { 'item': \"canvas\", \n",
    "     'qty': 100, \n",
    "     'tags': [\"cotton\"], \n",
    "     'size': { 'h': 28, 'w': 35.5, 'uom': \"cm\" } })"
   ]
  },
  {
   "cell_type": "markdown",
   "metadata": {},
   "source": [
    "#### `db.collection.insertMany()` добавляет несколько документов в коллекцию. Для этого необходимо передать список документов в качестве параметра метода:"
   ]
  },
  {
   "cell_type": "code",
   "execution_count": 19,
   "metadata": {},
   "outputs": [
    {
     "data": {
      "text/plain": [
       "<pymongo.results.InsertManyResult at 0x21f8d264148>"
      ]
     },
     "execution_count": 19,
     "metadata": {},
     "output_type": "execute_result"
    }
   ],
   "source": [
    "collection.insert_many([\n",
    "   { 'item': \"journal\", \n",
    "    'qty': 25, 'tags': [\"blank\", \"red\"], \n",
    "    'size': { 'h': 14, 'w': 21, 'uom': \"cm\" } },\n",
    "   { 'item': \"mat\", \n",
    "    'qty': 85, \n",
    "    'tags': [\"gray\"], \n",
    "    'size': { 'h': 27.9, 'w': 35.5, 'uom': \"cm\" } },\n",
    "   { 'item': \"mousepad\", \n",
    "    'qty': 25, \n",
    "    'tags': [\"gel\", \"blue\"], \n",
    "    'size': { 'h': 19, 'w': 22.85, 'uom': \"cm\" } }\n",
    "])"
   ]
  },
  {
   "cell_type": "markdown",
   "metadata": {},
   "source": [
    "В указанном выше примере ни один из документов также не имеет поля `_id`. В этом случае MongoDB добавляет его к каждому документу из списка. Метод `insertMany()` также возвращает документ, который содержит в себе все новые добавленные документы с полями `_id`"
   ]
  },
  {
   "cell_type": "markdown",
   "metadata": {},
   "source": [
    "### Операции Read\n",
    "Операции Read запрашивают документы из коллекции по указанным критериям. MongoDB предоставляет всего один метод для того, чтобы получить необходимые документы:\n",
    "```python\n",
    "db.collection.find()\n",
    "```"
   ]
  },
  {
   "cell_type": "markdown",
   "metadata": {},
   "source": [
    "Вы можете также изменять результат работы метода с помощью критериев, проекций, и дополнительных методов - модификаторов."
   ]
  },
  {
   "cell_type": "markdown",
   "metadata": {},
   "source": [
    "#### Запрос всех документов в коллекции:\n",
    "Чтобы получить все документы в коллекции, передайте пустой документ в качестве параметра метода `.find()`"
   ]
  },
  {
   "cell_type": "code",
   "execution_count": 30,
   "metadata": {},
   "outputs": [
    {
     "data": {
      "text/plain": [
       "<pymongo.cursor.Cursor at 0x21f90b66888>"
      ]
     },
     "execution_count": 30,
     "metadata": {},
     "output_type": "execute_result"
    }
   ],
   "source": [
    "collection.find( {} )"
   ]
  },
  {
   "cell_type": "code",
   "execution_count": 34,
   "metadata": {},
   "outputs": [
    {
     "name": "stdout",
     "output_type": "stream",
     "text": [
      "{'_id': ObjectId('5e6e0683b32988511d83f7c4'),\n",
      " 'item': 'canvas',\n",
      " 'qty': 100,\n",
      " 'size': {'h': 28, 'uom': 'cm', 'w': 35.5},\n",
      " 'tags': ['cotton']}\n",
      "{'_id': ObjectId('5e6e084cb32988511d83f7c6'),\n",
      " 'item': 'canvas',\n",
      " 'qty': 100,\n",
      " 'size': {'h': 28, 'uom': 'cm', 'w': 35.5},\n",
      " 'tags': ['cotton']}\n",
      "{'_id': ObjectId('5e6e0858b32988511d83f7c7'),\n",
      " 'item': 'journal',\n",
      " 'qty': 25,\n",
      " 'size': {'h': 14, 'uom': 'cm', 'w': 21},\n",
      " 'tags': ['blank', 'red']}\n",
      "{'_id': ObjectId('5e6e0858b32988511d83f7c8'),\n",
      " 'item': 'mat',\n",
      " 'qty': 85,\n",
      " 'size': {'h': 27.9, 'uom': 'cm', 'w': 35.5},\n",
      " 'tags': ['gray']}\n",
      "{'_id': ObjectId('5e6e0858b32988511d83f7c9'),\n",
      " 'item': 'mousepad',\n",
      " 'qty': 25,\n",
      " 'size': {'h': 19, 'uom': 'cm', 'w': 22.85},\n",
      " 'tags': ['gel', 'blue']}\n"
     ]
    }
   ],
   "source": [
    "for i in collection.find( {} ):\n",
    "    pprint(i)"
   ]
  },
  {
   "cell_type": "markdown",
   "metadata": {},
   "source": [
    "Данная операция аналогична запросу в реляционной СУБД:\n",
    "```SQL\n",
    "SELECT * FROM collection\n",
    "```"
   ]
  },
  {
   "cell_type": "markdown",
   "metadata": {},
   "source": [
    "#### Запрос документов по заданному условию:\n",
    "Чтобы получить результат по определенному критерию поиска, необходимо передавать пары `{<field1>: <value1>, ... }` в качестве параметра метода `.find()`. \n",
    "\n",
    "Так, следующий пример вернет все документы, значение поля `“status”` которых равны `“D”`:"
   ]
  },
  {
   "cell_type": "code",
   "execution_count": 26,
   "metadata": {},
   "outputs": [
    {
     "data": {
      "text/plain": [
       "<pymongo.cursor.Cursor at 0x21f8fa6dd88>"
      ]
     },
     "execution_count": 26,
     "metadata": {},
     "output_type": "execute_result"
    }
   ],
   "source": [
    "collection.find( { 'status': \"D\" } )"
   ]
  },
  {
   "cell_type": "code",
   "execution_count": 56,
   "metadata": {},
   "outputs": [
    {
     "data": {
      "text/plain": [
       "<pymongo.cursor.Cursor at 0x21f90d14808>"
      ]
     },
     "execution_count": 56,
     "metadata": {},
     "output_type": "execute_result"
    }
   ],
   "source": [
    "collection.find({})"
   ]
  },
  {
   "cell_type": "code",
   "execution_count": 36,
   "metadata": {},
   "outputs": [
    {
     "name": "stdout",
     "output_type": "stream",
     "text": [
      "{'_id': ObjectId('5e6e0858b32988511d83f7c7'),\n",
      " 'item': 'journal',\n",
      " 'qty': 25,\n",
      " 'size': {'h': 14, 'uom': 'cm', 'w': 21},\n",
      " 'tags': ['blank', 'red']}\n",
      "{'_id': ObjectId('5e6e0858b32988511d83f7c9'),\n",
      " 'item': 'mousepad',\n",
      " 'qty': 25,\n",
      " 'size': {'h': 19, 'uom': 'cm', 'w': 22.85},\n",
      " 'tags': ['gel', 'blue']}\n"
     ]
    }
   ],
   "source": [
    "for i in collection.find( { 'qty': 25 } ):\n",
    "    pprint(i)"
   ]
  },
  {
   "cell_type": "markdown",
   "metadata": {},
   "source": [
    "Данная операция аналогична запросу в реляционной СУБД:\n",
    "```SQL\n",
    "SELECT * FROM inventory WHERE 'qty' = 25\n",
    "```"
   ]
  },
  {
   "cell_type": "markdown",
   "metadata": {},
   "source": [
    "#### Запрос документов по нескольким критериям:\n",
    "Для того, чтобы усложнить условия выборки из документов, используют специальные операторы запросов:\n",
    "1. Операторы сравнения: `$eq, $gt, $gte, $in, $lt, $lte, $ne, $nin`\n",
    "2. Логические операторы: `$and, $not, $nor, $or`\n",
    "3. Операторы элементов: `$exists, $type`\n",
    "4. Операторы оценки: `$expr, $jsonSchema, $mod, $regex, $text, $where`\n",
    "Здесь перечислены основные. Про дополнительные можно прочитать в документации к MongoDB. \n",
    "\n",
    "Синтаксис применения операторов:\n",
    "```python\n",
    "{ <field1>: { <operator1>: <value1> }, ... }\n",
    "```"
   ]
  },
  {
   "cell_type": "markdown",
   "metadata": {},
   "source": [
    "Следующий пример запрашивает все документы из коллекции inventory  у которых поле  status равно “A” или  “D”:"
   ]
  },
  {
   "cell_type": "code",
   "execution_count": 52,
   "metadata": {},
   "outputs": [],
   "source": [
    "for qty in db.inventory.find( { 'qty': { '$in': [ 25, 100] } } ):\n",
    "    print(qty)"
   ]
  },
  {
   "cell_type": "markdown",
   "metadata": {},
   "source": [
    "**Важно!**\n",
    "Данный запрос можно составить с применением оператора `‘$or’`. Результат будет тот же самый. Но когда мы проверяем значения в одном и том же поле у всех документов, то рекомендуется использовать оператор` $’in’` как более быстрый и правильный при решении данной задачи.\n",
    "\n",
    "Данная операция аналогична запросу в реляционной СУБД:\n",
    "```SQL\n",
    "SELECT * FROM inventory WHERE status in (\"A\", \"D\")\n",
    "```"
   ]
  },
  {
   "cell_type": "markdown",
   "metadata": {},
   "source": [
    "#### Запрос документов по составным условиям (оператор `$and`):\n",
    "Вы можете выполнить составной запрос, используя критерии выборки по двум и более полям документов. \n",
    "\n",
    "Обычно для этого используется оператор `$and` (конъюнкция или логическое И) и дальше в списке указывается две и более пар <поле>:<значение>. Пример ниже запрашивает все документы в коллекции inventory со значениями status = “A” и qty меньше 30:\n",
    "db.inventory.find( { $and: [ { status: \"A\" }, { qty: { $lt: 30 } } ] } )\n",
    " \n",
    "Но, по умолчанию, данный оператор будет применяться ко всем парам, если их просто указать в качестве параметра метода .find():\n",
    "db.inventory.find( { status: \"A\", qty: { $lt: 30 } } )\n",
    " \n",
    "Результат выполнения обоих выражений будет одинаковый.\n",
    "Данная операция аналогична запросу в реляционной СУБД:\n",
    "SELECT * FROM inventory WHERE status = \"A\" AND qty < 30\n",
    " \n",
    "Запрос документов по составным условиям (оператор $or):\n",
    "Использование оператора $or (дизъюнкция или логическое “ИЛИ”) позволяет объединять результаты запроса по каждой паре <поле>:<значение> из списка, переданного в качестве параметра метода .find(). Для того, чтобы запрос сработал, необходимо по крайней мере наличие одного условия. Пример ниже запрашивает все документы в коллекции inventory со значениями status = “A” или qty меньше 30:\n",
    "db.inventory.find( { $or: [ { status: \"A\" }, { qty: { $lt: 30 } } ] } )\n",
    " \n",
    "Данная операция аналогична запросу в реляционной СУБД:\n",
    "SELECT * FROM inventory WHERE status = \"A\" OR qty < 30\n",
    "\n",
    "Важно! \n",
    "Запросы, в которых используются операторы сравнения работают корректно только в том случае если тип сравниваемого значения и тип значения поля документа одинаковы!\n",
    "\n",
    "Запрос документов по составным условиям (совместное использование $or и $and):\n",
    "В следующем примере составной запрос возвращает все документы в коллекции, у которых значение поля status равно “А” и также qty меньше ($lt) 30 или item начинается с символа “p”:\n",
    "db.inventory.find( {\n",
    "     status: \"A\",\n",
    "     $or: [ { qty: { $lt: 30 } }, { item: /^p/ } ]\n",
    "} )\n",
    " \n",
    "Данная операция аналогична запросу в реляционной СУБД:\n",
    "SELECT * FROM inventory WHERE status = \"A\" AND ( qty < 30 OR item LIKE \"p%\")\n",
    "\n",
    "Проекции\n",
    "Проекция - это метод, который определяет какие поля вернутся в документах, соответствующие критериям поиска. В качестве параметра передается документ вида:\n",
    "{ field1: <value>, field2: <value> ... }\n",
    "\n",
    "Значение <value> может быть следующим:\n",
    "1 или true, чтобы включить поле в возвращаемый документ\n",
    "0 или false, чтобы исключить поле из возвращаемого документа\n",
    "Выражение, использующее операторы проекции: $, $elemMatch, $slice, $meta\n",
    "\n",
    "Важно! \n",
    "Для поля _id не обязательно использовать проекцию _id: 1, чтобы включить поле _id. Метод .find() всегда будет возвращать данное поле, пока вы не укажете принудительно в проекции _id: 0, чтобы его убрать в выводе.\n",
    "\n",
    "Пример ниже запрашивает все документы в коллекции inventory со значениями status = “A” и qty меньше 30. Но выводит только поля item и status и _id (выводится по умолчанию):\n",
    "db.inventory.find( { status: \"A\", qty: { $lt: 30 } }, {item: 1, status: 1} )\n",
    "Данная операция аналогична запросу в реляционной СУБД:\n",
    "SELECT item, status FROM inventory WHERE status = \"A\" AND qty < 30\n"
   ]
  }
 ],
 "metadata": {
  "kernelspec": {
   "display_name": "Python 3",
   "language": "python",
   "name": "python3"
  },
  "language_info": {
   "codemirror_mode": {
    "name": "ipython",
    "version": 3
   },
   "file_extension": ".py",
   "mimetype": "text/x-python",
   "name": "python",
   "nbconvert_exporter": "python",
   "pygments_lexer": "ipython3",
   "version": "3.7.4"
  }
 },
 "nbformat": 4,
 "nbformat_minor": 4
}
