{
 "cells": [
  {
   "cell_type": "code",
   "execution_count": 1,
   "metadata": {},
   "outputs": [],
   "source": [
    "from pymongo import MongoClient\n",
    "from pprint import pprint"
   ]
  },
  {
   "cell_type": "code",
   "execution_count": 5,
   "metadata": {},
   "outputs": [
    {
     "name": "stdout",
     "output_type": "stream",
     "text": [
      "Collection(Database(MongoClient(host=['localhost:27017'], document_class=dict, tz_aware=False, connect=True), 'database_305'), 'users305')\n"
     ]
    }
   ],
   "source": [
    "client = MongoClient('localhost',27017)\n",
    "db = client['database_305']\n",
    "users = db.users305\n",
    "pprint(users)"
   ]
  },
  {
   "cell_type": "code",
   "execution_count": 17,
   "metadata": {},
   "outputs": [],
   "source": [
    "# letters = db.letters_305"
   ]
  },
  {
   "cell_type": "code",
   "execution_count": 7,
   "metadata": {},
   "outputs": [
    {
     "data": {
      "text/plain": [
       "<pymongo.results.InsertOneResult at 0x24b92159188>"
      ]
     },
     "execution_count": 7,
     "metadata": {},
     "output_type": "execute_result"
    }
   ],
   "source": [
    "users.insert_one({'author':'Second_author',\n",
    "                 'age':19,\n",
    "                  'tags':'Super tag!'})"
   ]
  },
  {
   "cell_type": "code",
   "execution_count": 8,
   "metadata": {},
   "outputs": [
    {
     "data": {
      "text/plain": [
       "<pymongo.results.InsertManyResult at 0x24b8ebd3b88>"
      ]
     },
     "execution_count": 8,
     "metadata": {},
     "output_type": "execute_result"
    }
   ],
   "source": [
    "users.insert_many([{\"author\": \"Peter\",\n",
    "               \"age\" : 56,\n",
    "               \"text\": \"Wildberry is cool!\",\n",
    "               \"tags\": ['cool','hot','ice'],\n",
    "               \"date\": '28.11.1970'},\n",
    "\n",
    "                    {\"author\": \"John\",\n",
    "               \"age\" : 28,\n",
    "               \"title\": \"Hot Cool!!!\",\n",
    "               \"text\": \"easy too!\",\n",
    "               \"date\": '13.03.2015'}])"
   ]
  },
  {
   "cell_type": "code",
   "execution_count": 15,
   "metadata": {},
   "outputs": [],
   "source": [
    "new_author = {\"author\": \"John 2\",\n",
    "               \"age\" : 28,\n",
    "               \"title\": \"Not cool\",\n",
    "               \"text\": \"easy too!\",\n",
    "               \"date\": '16.03.2019'}"
   ]
  },
  {
   "cell_type": "code",
   "execution_count": 9,
   "metadata": {},
   "outputs": [],
   "source": [
    "# $gt, $lt, $gte, $lte, $eq"
   ]
  },
  {
   "cell_type": "code",
   "execution_count": 16,
   "metadata": {},
   "outputs": [
    {
     "data": {
      "text/plain": [
       "<pymongo.cursor.Cursor at 0x24b9238c8c8>"
      ]
     },
     "execution_count": 16,
     "metadata": {},
     "output_type": "execute_result"
    }
   ],
   "source": []
  },
  {
   "cell_type": "code",
   "execution_count": 10,
   "metadata": {},
   "outputs": [
    {
     "name": "stdout",
     "output_type": "stream",
     "text": [
      "{'_id': ObjectId('5e6e0388f0dae16cb32a7f69'),\n",
      " 'age': 56,\n",
      " 'author': 'Peter',\n",
      " 'date': '28.11.1970',\n",
      " 'tags': ['cool', 'hot', 'ice'],\n",
      " 'text': 'Wildberry is cool!'}\n"
     ]
    }
   ],
   "source": [
    "for user in users.find({'age':{'$gt':30}}).sort('author').limit(1):\n",
    "    pprint(user)"
   ]
  },
  {
   "cell_type": "code",
   "execution_count": 13,
   "metadata": {},
   "outputs": [],
   "source": [
    "# users.update_many({'author':'John'},{'$set':new_author})"
   ]
  },
  {
   "cell_type": "code",
   "execution_count": 14,
   "metadata": {},
   "outputs": [
    {
     "name": "stdout",
     "output_type": "stream",
     "text": [
      "{'_id': ObjectId('5e6e0387f0dae16cb32a7f68'),\n",
      " 'age': 19,\n",
      " 'author': 'Second_author',\n",
      " 'tags': 'Super tag!'}\n",
      "{'_id': ObjectId('5e6e0388f0dae16cb32a7f69'),\n",
      " 'age': 56,\n",
      " 'author': 'Peter',\n",
      " 'date': '28.11.1970',\n",
      " 'tags': ['cool', 'hot', 'ice'],\n",
      " 'text': 'Wildberry is cool!'}\n",
      "{'_id': ObjectId('5e6e0388f0dae16cb32a7f6a'),\n",
      " 'age': 28,\n",
      " 'author': 'John',\n",
      " 'date': '13.03.2015',\n",
      " 'text': 'easy too!',\n",
      " 'title': 'Hot Cool!!!'}\n"
     ]
    }
   ],
   "source": [
    "users.delete_many({'author':['Second_author','Peter']})\n",
    "\n",
    "for user in users.find():\n",
    "    pprint(user)"
   ]
  }
 ],
 "metadata": {
  "kernelspec": {
   "display_name": "Python 3",
   "language": "python",
   "name": "python3"
  },
  "language_info": {
   "codemirror_mode": {
    "name": "ipython",
    "version": 3
   },
   "file_extension": ".py",
   "mimetype": "text/x-python",
   "name": "python",
   "nbconvert_exporter": "python",
   "pygments_lexer": "ipython3",
   "version": "3.7.4"
  }
 },
 "nbformat": 4,
 "nbformat_minor": 4
}
