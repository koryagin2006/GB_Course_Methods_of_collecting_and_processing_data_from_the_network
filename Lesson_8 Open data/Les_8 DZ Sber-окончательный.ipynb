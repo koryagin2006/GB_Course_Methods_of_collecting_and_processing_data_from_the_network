{
 "cells": [
  {
   "cell_type": "markdown",
   "metadata": {
    "Collapsed": "false"
   },
   "source": [
    "# Задание\n",
    "Создать приложение, которое будет из готового файла с данными «Сбербанка» выводить результат по параметрам:\n",
    "- Тип данных\n",
    "- Интервал дат\n",
    "\n",
    "Область визуализировать выводимые данные с помощью графика"
   ]
  },
  {
   "cell_type": "markdown",
   "metadata": {
    "Collapsed": "true"
   },
   "source": [
    "# Подготока"
   ]
  },
  {
   "cell_type": "markdown",
   "metadata": {
    "Collapsed": "false"
   },
   "source": [
    "### Подключение библиотек"
   ]
  },
  {
   "cell_type": "code",
   "execution_count": 4,
   "metadata": {
    "Collapsed": "false"
   },
   "outputs": [],
   "source": [
    "import pandas as pd\n",
    "from datetime import datetime\n",
    "import matplotlib.pyplot as plt\n",
    "import matplotlib.style"
   ]
  },
  {
   "cell_type": "code",
   "execution_count": 5,
   "metadata": {
    "Collapsed": "false"
   },
   "outputs": [],
   "source": [
    "DATASET_PATH = 'opendata.csv'\n",
    "df = pd.read_csv(DATASET_PATH, encoding='Windows-1251')\n",
    "df['date'] = df['date'].astype('datetime64[ns]')"
   ]
  },
  {
   "cell_type": "code",
   "execution_count": 53,
   "metadata": {
    "Collapsed": "false"
   },
   "outputs": [],
   "source": [
    "def graf(date_start, date_end, name, region):\n",
    "    '''\n",
    "    Функция строит график по заданным параметрам:\n",
    "    name = тип данных или его номер,\n",
    "    region = Регион РФ или Россия,\n",
    "    date_start = начальная дата выборки,\n",
    "    date_end = конечная дата выборки\n",
    "    '''\n",
    "    if type(name) == int:\n",
    "        name = data_types[name]\n",
    "    filter_date = (df['date'] > date_start) & (df['date'] < date_end)\n",
    "    filter_name = df['name'] == name\n",
    "    filter_reg = df['region'] == region\n",
    "    df_2 = df.loc[filter_date & filter_reg & filter_name]\n",
    "    \n",
    "    plt.figure(figsize=(16,4))\n",
    "    plt.plot(df_2['date'],df_2['value'])\n",
    "    plt.grid();"
   ]
  },
  {
   "cell_type": "markdown",
   "metadata": {
    "Collapsed": "false"
   },
   "source": [
    "# Список типов"
   ]
  },
  {
   "cell_type": "code",
   "execution_count": 57,
   "metadata": {
    "Collapsed": "false"
   },
   "outputs": [
    {
     "data": {
      "text/html": [
       "<div>\n",
       "<style scoped>\n",
       "    .dataframe tbody tr th:only-of-type {\n",
       "        vertical-align: middle;\n",
       "    }\n",
       "\n",
       "    .dataframe tbody tr th {\n",
       "        vertical-align: top;\n",
       "    }\n",
       "\n",
       "    .dataframe thead th {\n",
       "        text-align: right;\n",
       "    }\n",
       "</style>\n",
       "<table border=\"1\" class=\"dataframe\">\n",
       "  <thead>\n",
       "    <tr style=\"text-align: right;\">\n",
       "      <th></th>\n",
       "      <th>Тип данных</th>\n",
       "    </tr>\n",
       "  </thead>\n",
       "  <tbody>\n",
       "    <tr>\n",
       "      <th>0</th>\n",
       "      <td>В среднем депозитов в руб. на человека</td>\n",
       "    </tr>\n",
       "    <tr>\n",
       "      <th>1</th>\n",
       "      <td>В среднем руб. на текущем счете на человека</td>\n",
       "    </tr>\n",
       "    <tr>\n",
       "      <th>2</th>\n",
       "      <td>Количество заявок на ипотечные кредиты</td>\n",
       "    </tr>\n",
       "    <tr>\n",
       "      <th>3</th>\n",
       "      <td>Количество заявок на потребительские кредиты</td>\n",
       "    </tr>\n",
       "    <tr>\n",
       "      <th>4</th>\n",
       "      <td>Количество новых депозитов</td>\n",
       "    </tr>\n",
       "    <tr>\n",
       "      <th>5</th>\n",
       "      <td>Средние расходы по картам</td>\n",
       "    </tr>\n",
       "    <tr>\n",
       "      <th>6</th>\n",
       "      <td>Средние траты в ресторане</td>\n",
       "    </tr>\n",
       "    <tr>\n",
       "      <th>7</th>\n",
       "      <td>Средние траты в ресторане фастфуд</td>\n",
       "    </tr>\n",
       "    <tr>\n",
       "      <th>8</th>\n",
       "      <td>Средний чек в формате Ресторан</td>\n",
       "    </tr>\n",
       "    <tr>\n",
       "      <th>9</th>\n",
       "      <td>Средний чек в формате Фастфуд</td>\n",
       "    </tr>\n",
       "    <tr>\n",
       "      <th>10</th>\n",
       "      <td>Средняя зарплата</td>\n",
       "    </tr>\n",
       "    <tr>\n",
       "      <th>11</th>\n",
       "      <td>Средняя пенсия</td>\n",
       "    </tr>\n",
       "    <tr>\n",
       "      <th>12</th>\n",
       "      <td>Средняя сумма заявки на ипотечный кредит</td>\n",
       "    </tr>\n",
       "    <tr>\n",
       "      <th>13</th>\n",
       "      <td>Средняя сумма заявки на потребительский кредит</td>\n",
       "    </tr>\n",
       "    <tr>\n",
       "      <th>14</th>\n",
       "      <td>Средняя сумма нового депозита</td>\n",
       "    </tr>\n",
       "  </tbody>\n",
       "</table>\n",
       "</div>"
      ],
      "text/plain": [
       "                                        Тип данных\n",
       "0           В среднем депозитов в руб. на человека\n",
       "1      В среднем руб. на текущем счете на человека\n",
       "2           Количество заявок на ипотечные кредиты\n",
       "3     Количество заявок на потребительские кредиты\n",
       "4                       Количество новых депозитов\n",
       "5                        Средние расходы по картам\n",
       "6                        Средние траты в ресторане\n",
       "7                Средние траты в ресторане фастфуд\n",
       "8                   Средний чек в формате Ресторан\n",
       "9                    Средний чек в формате Фастфуд\n",
       "10                                Средняя зарплата\n",
       "11                                  Средняя пенсия\n",
       "12        Средняя сумма заявки на ипотечный кредит\n",
       "13  Средняя сумма заявки на потребительский кредит\n",
       "14                   Средняя сумма нового депозита"
      ]
     },
     "execution_count": 57,
     "metadata": {},
     "output_type": "execute_result"
    }
   ],
   "source": [
    "data_types = df['name'].value_counts().index.sort_values().tolist()\n",
    "pd.DataFrame.from_dict({'Тип данных': data_types})"
   ]
  },
  {
   "cell_type": "markdown",
   "metadata": {
    "Collapsed": "false"
   },
   "source": [
    "# Функция строит график по заданным параметрам:\n",
    "- `name` = тип данных или его номер из таблицы выше,\n",
    "- `region` = Регион РФ или `Россия`,\n",
    "- `date_start` = начальная дата выборки,\n",
    "- `date_end` = конечная дата выборки"
   ]
  },
  {
   "cell_type": "code",
   "execution_count": 56,
   "metadata": {
    "Collapsed": "false"
   },
   "outputs": [
    {
     "data": {
      "image/png": "[encoded data removed]",
      "text/plain": [
       "<Figure size 1152x288 with 1 Axes>"
      ]
     },
     "metadata": {
      "needs_background": "light"
     },
     "output_type": "display_data"
    }
   ],
   "source": [
    "graf(\n",
    "    name = 10,\n",
    "    region = 'Оренбургская область',\n",
    "    date_start = '2015-01-01',\n",
    "    date_end = '2020-01-01'\n",
    ")"
   ]
  }
 ],
 "metadata": {
  "kernelspec": {
   "display_name": "Python 3",
   "language": "python",
   "name": "python3"
  },
  "language_info": {
   "codemirror_mode": {
    "name": "ipython",
    "version": 3
   },
   "file_extension": ".py",
   "mimetype": "text/x-python",
   "name": "python",
   "nbconvert_exporter": "python",
   "pygments_lexer": "ipython3",
   "version": "3.7.6"
  }
 },
 "nbformat": 4,
 "nbformat_minor": 4
}
