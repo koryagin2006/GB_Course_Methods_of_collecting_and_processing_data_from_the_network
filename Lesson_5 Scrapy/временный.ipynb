{
 "cells": [
  {
   "cell_type": "code",
   "execution_count": 1,
   "metadata": {
    "Collapsed": "false"
   },
   "outputs": [],
   "source": [
    "from pprint import pprint\n",
    "import requests\n",
    "from lxml import html\n",
    "import json"
   ]
  },
  {
   "cell_type": "code",
   "execution_count": 2,
   "metadata": {
    "Collapsed": "false"
   },
   "outputs": [],
   "source": [
    "header = {'User-Agent': 'Mozilla/5.0 (Windows NT 10.0; Win64; x64) AppleWebKit/537.36 (KHTML, like Gecko) '\n",
    "                                  'Chrome/80.0.3987.149 Safari/537.36 '}"
   ]
  },
  {
   "cell_type": "code",
   "execution_count": 17,
   "metadata": {
    "Collapsed": "false"
   },
   "outputs": [
    {
     "name": "stdout",
     "output_type": "stream",
     "text": [
      "https://russia.superjob.ru/vakansii/sistemnyj-analitik-33619990.html\n"
     ]
    }
   ],
   "source": [
    "main_link = 'https://russia.superjob.ru/vakansii/sistemnyj-analitik-33619990.html'\n",
    "# main_link = 'https://hh.ru/vacancy/36396758?query=Python'\n",
    "print(main_link)"
   ]
  },
  {
   "cell_type": "code",
   "execution_count": 18,
   "metadata": {
    "Collapsed": "false"
   },
   "outputs": [],
   "source": [
    "response = requests.get(main_link, headers=header).text\n",
    "response = html.fromstring(response)"
   ]
  },
  {
   "cell_type": "code",
   "execution_count": 19,
   "metadata": {
    "Collapsed": "false"
   },
   "outputs": [],
   "source": [
    "# vacancy_list = response.xpath(\"//div[@class='_3zucV _2GPIV f-test-vacancy-item i6-sc _3VcZr']//div[@class='_2g1F-']/a/@href\")\n",
    "# for i in vacancy_list:\n",
    "#     print(i)"
   ]
  },
  {
   "cell_type": "code",
   "execution_count": 20,
   "metadata": {
    "Collapsed": "false"
   },
   "outputs": [
    {
     "name": "stdout",
     "output_type": "stream",
     "text": [
      "{'@context': 'http://schema.org',\n",
      " '@type': 'JobPosting',\n",
      " 'baseSalary': {'@type': 'MonetaryAmount',\n",
      "                'currency': 'RUB',\n",
      "                'value': {'@type': 'QuantitativeValue',\n",
      "                          'minValue': 100000,\n",
      "                          'unitText': 'MONTH'}},\n",
      " 'datePosted': '2020-03-06T17:10:57+03:00',\n",
      " 'description': '<p>Требования:</p><p>В молодой, развивающийся стартап, '\n",
      "                'занимающийся проектами преимущественно в сфере машинного '\n",
      "                'обучения требуется системный аналитик.<br> ООО «Когнитивные '\n",
      "                'Системы» с 2016 года занимается разработкой системы обучения '\n",
      "                'нейронных сетей и созданием диалоговых систем на ее основе. '\n",
      "                'Является дочерней компанией крупнейшего производителя '\n",
      "                'сервисных роботов «Промобот». <br><br>Обязанности:<br>• Сбор, '\n",
      "                'анализ, формализация требований заказчика; <br>• Разработка и '\n",
      "                'согласование технической документации;<br>• Разработка '\n",
      "                'архитектуры ПО; <br>• Разработка постановок задач '\n",
      "                'программистам в Jira; <br>• Разработка интеграционных решений '\n",
      "                'по встраиванию программных изделий в программно-аппаратные '\n",
      "                'комплексы; <br>• Контроль процесса разработки на соответствие '\n",
      "                'требованиям обеспечения информационной безопасности, а также '\n",
      "                'на сертифицируемость; <br>• Документирование процесса '\n",
      "                'разработки в Confluence. <br>Требования:<br>• Опыт работы в '\n",
      "                'проектах по внедрению документооборота, владение ГОСТ; <br>• '\n",
      "                'Опыт разработки архитектурных и интеграционных решений в '\n",
      "                'сложных программно-аппаратных комплексах;<br>• Опыт '\n",
      "                'разработки постановок задач удаленным командам программистов; '\n",
      "                '<br>• Хорошее знание Excel (сводные таблицы, функции, '\n",
      "                'диаграммы, ВПР); <br>• Общие знания баз данных (связь таблиц, '\n",
      "                'витрины); <br>• Навыки XML, XSD, JSON;<br>• Навыки с '\n",
      "                'сервисами интеграции (описание интеграционных механизмов, '\n",
      "                'тестирование интеграционных сервисов);<br>• Опыт работы с '\n",
      "                'Jira (или другие task-трекеры), Confluence; <br>• '\n",
      "                'Моделирование бизнес-процессов, требований к ПО;<br>• Опыт '\n",
      "                'написания технических заданий с описанием API, модели данных, '\n",
      "                'архитектуры и бизнес-процессов;<br>• Знание языка '\n",
      "                'программирования Python;<br>• Знание и умение применять '\n",
      "                'нотации IDEF0, UML, BPMN;<br>• Знание и умение применять '\n",
      "                'нормативные и регламентирующие документы в работе. <br> '\n",
      "                'Ключевые навыки (будет плюсом):<br>- Python<br>- SQL<br>- '\n",
      "                'Atlassian Jira<br>- Atlassian Confluence<br>- Системная '\n",
      "                'интеграция<br>- Постановка задач разработчикам<br>- '\n",
      "                'Техническая документация<br>- Разработка технических заданий '\n",
      "                '<br><br>Условия:<br>• Оформление по ТК РФ; <br>• офис '\n",
      "                'разработки находится в г. Королев в 10 минутах от ст. '\n",
      "                'электрички Болшево;<br>• Гибкий график отпусков ;<br>• '\n",
      "                'Участие в интересных проектах разной направленности;<br>• '\n",
      "                'Отсутствие бюрократии.</p>',\n",
      " 'employmentType': 'FULL_TIME',\n",
      " 'hiringOrganization': {'@type': 'Organization',\n",
      "                        'logo': 'https://public.superjob.ru/images/clients_logos.ru/2307041_5d28317b869da9977c916b2d10409311.jpg',\n",
      "                        'name': 'Кадровая Служба 24'},\n",
      " 'identifier': {'@type': 'PropertyValue',\n",
      "                'name': 'Кадровая Служба 24',\n",
      "                'value': '2307041'},\n",
      " 'jobLocation': {'@type': 'Place',\n",
      "                 'address': {'@type': 'PostalAddress',\n",
      "                             'addressLocality': 'Москва',\n",
      "                             'addressRegion': 'Московская область'}},\n",
      " 'title': 'Системный аналитик',\n",
      " 'url': 'https://russia.superjob.ru/vakansii/sistemnyj-analitik-33619990.html',\n",
      " 'validThrough': '2020-04-05T17:10:57+03:00'}\n"
     ]
    }
   ],
   "source": [
    "vacancy_name = response.xpath(\"//h1[@class='_3mfro rFbjy s1nFK _2JVkc']/text()\")[0]\n",
    "company = ''.join(response.xpath(\"//h2[@class='_3mfro PlM3e _2JVkc _2VHxz _3LJqf _15msI']/text()\"))\n",
    "vacancy_info_json = json.loads(response.xpath(\"//script[@type='application/ld+json']/text()\")[1])\n",
    "location = ''.join(response.xpath(\"//span[@class='_6-z9f']//span[@class='_3mfro _1hP6a _2JVkc']/text()\"))\n",
    "\n",
    "pprint(vacancy_info_json)"
   ]
  },
  {
   "cell_type": "code",
   "execution_count": 29,
   "metadata": {
    "Collapsed": "false"
   },
   "outputs": [
    {
     "name": "stdout",
     "output_type": "stream",
     "text": [
      "100000\n",
      "\n",
      "RUB\n"
     ]
    }
   ],
   "source": [
    "try:\n",
    "    salary_min = vacancy_info_json['baseSalary']['value']['minValue']\n",
    "except KeyError:\n",
    "    salary_min = ''\n",
    "\n",
    "try:\n",
    "    salary_max = vacancy_info_json['baseSalary']['value']['maxValue']\n",
    "except KeyError:\n",
    "    salary_max = ''\n",
    "\n",
    "currency = vacancy_info_json['baseSalary']['currency']\n",
    "\n",
    "for i in [salary_min, salary_max, currency]:\n",
    "    print(i)"
   ]
  },
  {
   "cell_type": "code",
   "execution_count": 46,
   "metadata": {
    "Collapsed": "false"
   },
   "outputs": [
    {
     "data": {
      "text/plain": [
       "100000"
      ]
     },
     "execution_count": 46,
     "metadata": {},
     "output_type": "execute_result"
    }
   ],
   "source": [
    "vacancy_info_json['baseSalary']['value']['minValue']"
   ]
  },
  {
   "cell_type": "markdown",
   "metadata": {
    "Collapsed": "false"
   },
   "source": [
    "# Очистка DB"
   ]
  },
  {
   "cell_type": "code",
   "execution_count": 37,
   "metadata": {
    "Collapsed": "false"
   },
   "outputs": [
    {
     "name": "stdout",
     "output_type": "stream",
     "text": [
      "Database(MongoClient(host=['localhost:27017'], document_class=dict, tz_aware=False, connect=True), 'vacansy_305')\n"
     ]
    }
   ],
   "source": [
    "from pymongo import MongoClient\n",
    "client = MongoClient('localhost',27017)\n",
    "db = client['database_305']\n",
    "vacansy_305 = client.vacansy_305\n",
    "pprint(vacansy_305)"
   ]
  },
  {
   "cell_type": "code",
   "execution_count": 45,
   "metadata": {
    "Collapsed": "false"
   },
   "outputs": [],
   "source": [
    "for collect in vacansy_305.list_collection_names():\n",
    "    vacansy_305.drop_collection(collect)"
   ]
  },
  {
   "cell_type": "code",
   "execution_count": null,
   "metadata": {
    "Collapsed": "false"
   },
   "outputs": [],
   "source": []
  }
 ],
 "metadata": {
  "kernelspec": {
   "display_name": "Python 3",
   "language": "python",
   "name": "python3"
  },
  "language_info": {
   "codemirror_mode": {
    "name": "ipython",
    "version": 3
   },
   "file_extension": ".py",
   "mimetype": "text/x-python",
   "name": "python",
   "nbconvert_exporter": "python",
   "pygments_lexer": "ipython3",
   "version": "3.7.6"
  }
 },
 "nbformat": 4,
 "nbformat_minor": 4
}
