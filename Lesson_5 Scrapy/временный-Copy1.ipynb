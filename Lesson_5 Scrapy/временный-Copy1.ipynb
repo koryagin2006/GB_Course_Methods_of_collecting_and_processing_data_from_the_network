{
 "cells": [
  {
   "cell_type": "code",
   "execution_count": 1,
   "metadata": {
    "Collapsed": "false"
   },
   "outputs": [],
   "source": [
    "from pprint import pprint\n",
    "import requests\n",
    "from lxml import html\n",
    "import json"
   ]
  },
  {
   "cell_type": "code",
   "execution_count": 2,
   "metadata": {
    "Collapsed": "false"
   },
   "outputs": [],
   "source": [
    "header = {'User-Agent': 'Mozilla/5.0 (Windows NT 10.0; Win64; x64) AppleWebKit/537.36 (KHTML, like Gecko) '\n",
    "                                  'Chrome/80.0.3987.149 Safari/537.36 '}"
   ]
  },
  {
   "cell_type": "code",
   "execution_count": 3,
   "metadata": {
    "Collapsed": "false"
   },
   "outputs": [
    {
     "name": "stdout",
     "output_type": "stream",
     "text": [
      "https://hh.ru/vacancy/36396758?query=Python\n"
     ]
    }
   ],
   "source": [
    "# main_link = 'https://russia.superjob.ru/vakansii/sistemnyj-analitik-33619990.html'\n",
    "main_link = 'https://hh.ru/vacancy/36396758?query=Python'\n",
    "print(main_link)"
   ]
  },
  {
   "cell_type": "code",
   "execution_count": 4,
   "metadata": {
    "Collapsed": "false"
   },
   "outputs": [],
   "source": [
    "response = requests.get(main_link, headers=header).text\n",
    "response = html.fromstring(response)"
   ]
  },
  {
   "cell_type": "code",
   "execution_count": 5,
   "metadata": {
    "Collapsed": "false"
   },
   "outputs": [],
   "source": [
    "# vacancy_list = response.xpath(\"//div[@class='_3zucV _2GPIV f-test-vacancy-item i6-sc _3VcZr']//div[@class='_2g1F-']/a/@href\")\n",
    "# for i in vacancy_list:\n",
    "#     print(i)"
   ]
  },
  {
   "cell_type": "code",
   "execution_count": 12,
   "metadata": {
    "Collapsed": "false"
   },
   "outputs": [
    {
     "name": "stdout",
     "output_type": "stream",
     "text": [
      "{'vac_city': '.113.232.1.',\n",
      " 'vac_employerid': '3514104',\n",
      " 'vac_exp': 'between3And6',\n",
      " 'vac_metro': ['kaluzhskaya'],\n",
      " 'vac_profarea': ['1'],\n",
      " 'vac_salary_cur': 'RUR',\n",
      " 'vac_salary_from': '150000',\n",
      " 'vac_salary_to': '200000',\n",
      " 'vac_skills': ['Linux', 'Python', 'Docker', 'Git', 'Бэкэнд'],\n",
      " 'vac_specs': ['221'],\n",
      " 'vac_type': 'premium',\n",
      " 'vac_views': '1124'}\n"
     ]
    }
   ],
   "source": [
    "vacancy_info_json = json.loads(''.join(response.xpath(\"//script[@data-name='HH/GoogleDfpService']/@data-params\")))\n",
    "\n",
    "\n",
    "pprint(vacancy_info_json)"
   ]
  },
  {
   "cell_type": "code",
   "execution_count": 9,
   "metadata": {
    "Collapsed": "false"
   },
   "outputs": [
    {
     "name": "stdout",
     "output_type": "stream",
     "text": [
      "100000\n",
      "\n",
      "RUB\n"
     ]
    }
   ],
   "source": [
    "try:\n",
    "    salary_min = vacancy_info_json['baseSalary']['value']['minValue']\n",
    "except KeyError:\n",
    "    salary_min = ''\n",
    "\n",
    "try:\n",
    "    salary_max = vacancy_info_json['baseSalary']['value']['maxValue']\n",
    "except KeyError:\n",
    "    salary_max = ''\n",
    "\n",
    "currency = vacancy_info_json['baseSalary']['currency']\n",
    "\n",
    "for i in [salary_min, salary_max, currency]:\n",
    "    print(i)"
   ]
  },
  {
   "cell_type": "code",
   "execution_count": 10,
   "metadata": {
    "Collapsed": "false"
   },
   "outputs": [
    {
     "data": {
      "text/plain": [
       "100000"
      ]
     },
     "execution_count": 10,
     "metadata": {},
     "output_type": "execute_result"
    }
   ],
   "source": [
    "vacancy_info_json['baseSalary']['value']['minValue']"
   ]
  },
  {
   "cell_type": "markdown",
   "metadata": {
    "Collapsed": "false"
   },
   "source": [
    "# Очистка DB"
   ]
  },
  {
   "cell_type": "code",
   "execution_count": 37,
   "metadata": {
    "Collapsed": "false"
   },
   "outputs": [
    {
     "name": "stdout",
     "output_type": "stream",
     "text": [
      "Database(MongoClient(host=['localhost:27017'], document_class=dict, tz_aware=False, connect=True), 'vacansy_305')\n"
     ]
    }
   ],
   "source": [
    "from pymongo import MongoClient\n",
    "client = MongoClient('localhost',27017)\n",
    "db = client['database_305']\n",
    "vacansy_305 = client.vacansy_305\n",
    "pprint(vacansy_305)"
   ]
  },
  {
   "cell_type": "code",
   "execution_count": 45,
   "metadata": {
    "Collapsed": "false"
   },
   "outputs": [],
   "source": [
    "for collect in vacansy_305.list_collection_names():\n",
    "    vacansy_305.drop_collection(collect)"
   ]
  },
  {
   "cell_type": "code",
   "execution_count": null,
   "metadata": {
    "Collapsed": "false"
   },
   "outputs": [],
   "source": []
  }
 ],
 "metadata": {
  "kernelspec": {
   "display_name": "Python 3",
   "language": "python",
   "name": "python3"
  },
  "language_info": {
   "codemirror_mode": {
    "name": "ipython",
    "version": 3
   },
   "file_extension": ".py",
   "mimetype": "text/x-python",
   "name": "python",
   "nbconvert_exporter": "python",
   "pygments_lexer": "ipython3",
   "version": "3.7.6"
  }
 },
 "nbformat": 4,
 "nbformat_minor": 4
}
