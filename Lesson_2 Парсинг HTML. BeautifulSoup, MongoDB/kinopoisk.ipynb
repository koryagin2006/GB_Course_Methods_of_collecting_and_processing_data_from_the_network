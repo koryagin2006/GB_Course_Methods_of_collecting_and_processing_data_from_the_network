{
 "cells": [
  {
   "cell_type": "code",
   "execution_count": 9,
   "metadata": {},
   "outputs": [],
   "source": [
    "from bs4 import BeautifulSoup as bs\n",
    "import requests\n",
    "from pprint import pprint\n",
    "import json"
   ]
  },
  {
   "cell_type": "code",
   "execution_count": 6,
   "metadata": {},
   "outputs": [],
   "source": [
    "import pandas as pd"
   ]
  },
  {
   "cell_type": "code",
   "execution_count": 3,
   "metadata": {},
   "outputs": [],
   "source": [
    "main_link = 'https://www.kinopoisk.ru'\n",
    "html = requests.get(main_link + '/afisha/new/city/1/').text\n",
    "parsed_html = bs(html,'lxml')\n",
    "\n",
    "films_block = parsed_html.find('div',{'class':'filmsListNew js-rum-hero'})\n",
    "films_list = films_block.findChildren(recursive=False)"
   ]
  },
  {
   "cell_type": "code",
   "execution_count": 20,
   "metadata": {},
   "outputs": [],
   "source": [
    "films = []\n",
    "for film in films_list:\n",
    "    film_data={}\n",
    "    main_info = film.find('div',{'class':'name'}).findChild()\n",
    "    film_name = main_info.getText().replace('xa0','')\n",
    "    film_link = main_link + main_info['href']\n",
    "    genre = film.find_all('div',{'class':'gray'})[1].getText().replace(' ','')[9:]\n",
    "    rating = film.find('span',{'class':['rating_ball_grey','rating_ball_green','rating_ball_red']})\n",
    "    if not rating:\n",
    "        rating = 0\n",
    "    else:\n",
    "        rating = rating.getText()\n",
    "\n",
    "    film_data['name'] = film_name\n",
    "    film_data['link'] = film_link\n",
    "    film_data['genre'] = genre\n",
    "    film_data['rating'] = rating\n",
    "\n",
    "    films.append(film_data)\n",
    "\n",
    "# pprint(films)"
   ]
  },
  {
   "cell_type": "code",
   "execution_count": 51,
   "metadata": {},
   "outputs": [],
   "source": [
    "# with open(\"kinopoisk.json\", \"w\", encoding=\"utf-8\") as f:\n",
    "#     json.dump(films, f)\n",
    "# pd.read_json('kinopoisk.json')"
   ]
  },
  {
   "cell_type": "code",
   "execution_count": 49,
   "metadata": {},
   "outputs": [
    {
     "data": {
      "text/html": [
       "<div>\n",
       "<style scoped>\n",
       "    .dataframe tbody tr th:only-of-type {\n",
       "        vertical-align: middle;\n",
       "    }\n",
       "\n",
       "    .dataframe tbody tr th {\n",
       "        vertical-align: top;\n",
       "    }\n",
       "\n",
       "    .dataframe thead th {\n",
       "        text-align: right;\n",
       "    }\n",
       "</style>\n",
       "<table border=\"1\" class=\"dataframe\">\n",
       "  <thead>\n",
       "    <tr style=\"text-align: right;\">\n",
       "      <th></th>\n",
       "      <th>name</th>\n",
       "      <th>link</th>\n",
       "      <th>genre</th>\n",
       "      <th>rating</th>\n",
       "    </tr>\n",
       "  </thead>\n",
       "  <tbody>\n",
       "    <tr>\n",
       "      <td>0</td>\n",
       "      <td>Человек-невидимка</td>\n",
       "      <td>https://www.kinopoisk.ru/film/420454/</td>\n",
       "      <td>ужасы,фантастика,триллер...</td>\n",
       "      <td>6.781</td>\n",
       "    </tr>\n",
       "    <tr>\n",
       "      <td>1</td>\n",
       "      <td>Отель «Белград»</td>\n",
       "      <td>https://www.kinopoisk.ru/film/1206431/</td>\n",
       "      <td>комедия,мелодрама</td>\n",
       "      <td>6.473</td>\n",
       "    </tr>\n",
       "    <tr>\n",
       "      <td>2</td>\n",
       "      <td>Джентльмены</td>\n",
       "      <td>https://www.kinopoisk.ru/film/1143242/</td>\n",
       "      <td>боевик,комедия,криминал</td>\n",
       "      <td>8.694</td>\n",
       "    </tr>\n",
       "    <tr>\n",
       "      <td>3</td>\n",
       "      <td>Остров фантазий</td>\n",
       "      <td>https://www.kinopoisk.ru/film/462193/</td>\n",
       "      <td>ужасы,триллер,фантастика</td>\n",
       "      <td>5.435</td>\n",
       "    </tr>\n",
       "    <tr>\n",
       "      <td>4</td>\n",
       "      <td>Один вдох</td>\n",
       "      <td>https://www.kinopoisk.ru/film/1112295/</td>\n",
       "      <td>драма,спорт</td>\n",
       "      <td>6.970</td>\n",
       "    </tr>\n",
       "    <tr>\n",
       "      <td>5</td>\n",
       "      <td>Яга. Кошмар тёмного леса</td>\n",
       "      <td>https://www.kinopoisk.ru/film/1124682/</td>\n",
       "      <td>ужасы</td>\n",
       "      <td>5.119</td>\n",
       "    </tr>\n",
       "    <tr>\n",
       "      <td>6</td>\n",
       "      <td>Вперёд</td>\n",
       "      <td>https://www.kinopoisk.ru/film/1080513/</td>\n",
       "      <td>мультфильм,фэнтези,комедия...</td>\n",
       "      <td>7.692</td>\n",
       "    </tr>\n",
       "    <tr>\n",
       "      <td>7</td>\n",
       "      <td>Очень женские истории</td>\n",
       "      <td>https://www.kinopoisk.ru/film/1311060/</td>\n",
       "      <td>мелодрама,комедия</td>\n",
       "      <td>5.220</td>\n",
       "    </tr>\n",
       "    <tr>\n",
       "      <td>8</td>\n",
       "      <td>Лёд 2</td>\n",
       "      <td>https://www.kinopoisk.ru/film/1227963/</td>\n",
       "      <td>мелодрама,драма,спорт</td>\n",
       "      <td>7.054</td>\n",
       "    </tr>\n",
       "    <tr>\n",
       "      <td>9</td>\n",
       "      <td>Просто помиловать</td>\n",
       "      <td>https://www.kinopoisk.ru/film/1108556/</td>\n",
       "      <td>драма</td>\n",
       "      <td>7.420</td>\n",
       "    </tr>\n",
       "  </tbody>\n",
       "</table>\n",
       "</div>"
      ],
      "text/plain": [
       "                       name                                    link  \\\n",
       "0         Человек-невидимка   https://www.kinopoisk.ru/film/420454/   \n",
       "1           Отель «Белград»  https://www.kinopoisk.ru/film/1206431/   \n",
       "2               Джентльмены  https://www.kinopoisk.ru/film/1143242/   \n",
       "3           Остров фантазий   https://www.kinopoisk.ru/film/462193/   \n",
       "4                 Один вдох  https://www.kinopoisk.ru/film/1112295/   \n",
       "5  Яга. Кошмар тёмного леса  https://www.kinopoisk.ru/film/1124682/   \n",
       "6                    Вперёд  https://www.kinopoisk.ru/film/1080513/   \n",
       "7     Очень женские истории  https://www.kinopoisk.ru/film/1311060/   \n",
       "8                     Лёд 2  https://www.kinopoisk.ru/film/1227963/   \n",
       "9         Просто помиловать  https://www.kinopoisk.ru/film/1108556/   \n",
       "\n",
       "                           genre rating  \n",
       "0    ужасы,фантастика,триллер...  6.781  \n",
       "1              комедия,мелодрама  6.473  \n",
       "2        боевик,комедия,криминал  8.694  \n",
       "3       ужасы,триллер,фантастика  5.435  \n",
       "4                    драма,спорт  6.970  \n",
       "5                          ужасы  5.119  \n",
       "6  мультфильм,фэнтези,комедия...  7.692  \n",
       "7              мелодрама,комедия  5.220  \n",
       "8          мелодрама,драма,спорт  7.054  \n",
       "9                          драма  7.420  "
      ]
     },
     "execution_count": 49,
     "metadata": {},
     "output_type": "execute_result"
    }
   ],
   "source": [
    "pd.DataFrame(films)"
   ]
  },
  {
   "cell_type": "code",
   "execution_count": null,
   "metadata": {},
   "outputs": [],
   "source": []
  }
 ],
 "metadata": {
  "kernelspec": {
   "display_name": "Python 3",
   "language": "python",
   "name": "python3"
  },
  "language_info": {
   "codemirror_mode": {
    "name": "ipython",
    "version": 3
   },
   "file_extension": ".py",
   "mimetype": "text/x-python",
   "name": "python",
   "nbconvert_exporter": "python",
   "pygments_lexer": "ipython3",
   "version": "3.7.4"
  }
 },
 "nbformat": 4,
 "nbformat_minor": 4
}
