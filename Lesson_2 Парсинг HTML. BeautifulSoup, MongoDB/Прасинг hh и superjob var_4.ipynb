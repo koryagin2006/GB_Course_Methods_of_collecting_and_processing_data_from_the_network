{
 "cells": [
  {
   "cell_type": "code",
   "execution_count": 28,
   "metadata": {},
   "outputs": [],
   "source": [
    "from bs4 import BeautifulSoup as bs\n",
    "from pprint import pprint\n",
    "from datetime import datetime\n",
    "from time import sleep\n",
    "from random import randint\n",
    "import pandas as pd\n",
    "import requests, lxml, re, json"
   ]
  },
  {
   "cell_type": "code",
   "execution_count": 11,
   "metadata": {},
   "outputs": [],
   "source": [
    "User_Agent = \"Mozilla/5.0 (Windows NT 10.0; Win64; x64) AppleWebKit/537.36 (KHTML, like Gecko) Chrome/80.0.3987.132 Safari/537.36\"\n",
    "header={'User-Agent': User_Agent}"
   ]
  },
  {
   "cell_type": "code",
   "execution_count": 12,
   "metadata": {},
   "outputs": [],
   "source": [
    "def page_next_hh(link):\n",
    "    '''Функция возвращает текст кноки \"дальше\" при передачи в нее ссылки\n",
    "    '''\n",
    "    html = requests.get(link, headers={'User-Agent': User_Agent}).text\n",
    "    parsed_html = bs(html,'lxml')\n",
    "    page_next = parsed_html.find('a',{'class':'bloko-button HH-Pager-Controls-Next HH-Pager-Control'},).getText()\n",
    "    return page_next"
   ]
  },
  {
   "cell_type": "code",
   "execution_count": 13,
   "metadata": {},
   "outputs": [],
   "source": [
    "def page_next_sj(link):\n",
    "    '''Функция возвращает текст кноки \"дальше\" при передачи в нее ссылки\n",
    "    '''\n",
    "    html = requests.get(link, headers={'User-Agent': User_Agent}).text\n",
    "    parsed_html = bs(html,'lxml')\n",
    "    page_next = parsed_html.find('a',{'class':'icMQ_ _1_Cht _3ze9n f-test-button-dalshe f-test-link-Dalshe'},).getText()\n",
    "    return page_next"
   ]
  },
  {
   "cell_type": "code",
   "execution_count": 14,
   "metadata": {},
   "outputs": [],
   "source": [
    "def vacancies_hh(link):\n",
    "    \n",
    "    html = requests.get(link, headers={'User-Agent': User_Agent}).text\n",
    "    parsed_html = bs(html,'lxml')\n",
    "    vacancy_list = parsed_html.find_all('div',{'class':'vacancy-serp-item'},)\n",
    "\n",
    "    for vacancy in vacancy_list:\n",
    "        vac_data = {}\n",
    "\n",
    "        info = vacancy.find('a',{'class':'bloko-link HH-LinkModifier'})\n",
    "\n",
    "        vacancy_name = info.getText()\n",
    "        vacancy_link = info['href']\n",
    "        site = 'hh.ru'\n",
    "\n",
    "        zp = vacancy.find('div',{'class':'vacancy-serp-item__sidebar'}).findChild()\n",
    "        if not zp:\n",
    "            zp = None\n",
    "            zp_min = None\n",
    "            zp_max = None\n",
    "            currency = None\n",
    "        else:\n",
    "            zp = zp.get_text()\n",
    "            currency = (re.findall('USD',zp) or re.findall('руб.',zp) or re.findall('KZT',zp) or re.findall('EUR',zp) if zp else None)[0]\n",
    "            if zp == None:\n",
    "                zp_max = None\n",
    "                zp_min = None\n",
    "                currency = currency\n",
    "            elif zp[:2] == 'от':\n",
    "                zp_min = int(re.sub('\\s+','',re.findall(\"\\d+\\s?\\d+\",zp)[0]))\n",
    "                zp_max = None\n",
    "                currency = currency\n",
    "            elif zp[:2] == 'до':\n",
    "                zp_min = None\n",
    "                zp_max = int(re.sub('\\s+','',re.findall(\"\\d+\\s?\\d+\",zp)[0]))\n",
    "                currency = currency\n",
    "            elif zp.find('-') != None:\n",
    "                zp_min = int(re.sub('\\s+','',re.findall(\"\\d+\\s?\\d+\",zp)[0]))\n",
    "                zp_max = int(re.sub('\\s+','',re.findall(\"\\d+\\s?\\d+\",zp)[1]))\n",
    "                currency = currency\n",
    "        \n",
    "        vac_data['Сайт'] = site\n",
    "        vac_data['Название вакансии'] = vacancy_name\n",
    "        vac_data['От'] = zp_min\n",
    "        vac_data['До'] = zp_max\n",
    "        vac_data['Валюта'] = currency\n",
    "        vac_data['Ссылка на вакансию'] = vacancy_link\n",
    "\n",
    "        vacancies.append(vac_data)"
   ]
  },
  {
   "cell_type": "code",
   "execution_count": 15,
   "metadata": {},
   "outputs": [],
   "source": [
    "def vacancies_sj(link):\n",
    "    html = requests.get(link, headers=header).text\n",
    "    parsed_html = bs(html,'lxml') \n",
    "    vacancy_blocks = parsed_html.find('div', {'style':\"display:block\"})    \n",
    "    vacancy_block = vacancy_blocks.findChildren('div', {'class':'_3zucV _2GPIV f-test-vacancy-item i6-sc _3VcZr'}, recursive=False)\n",
    "    \n",
    "    for vacancy in vacancy_block:\n",
    "        vac_data = {}\n",
    "        \n",
    "        pattern_name = re.compile('icMQ_ _1QIBo .*')\n",
    "        name_module = vacancy.find('a', {'class': pattern_name})\n",
    "        vacancy_name = name_module.text\n",
    "        site = 'superjob.ru'\n",
    "        vacancy_link =site + name_module['href']\n",
    "        \n",
    "        pattern_finance = re.compile('_3mfro _2Wp8I f-test-text-company-item-salary PlM3e _2JVkc _2VHxz')\n",
    "        finance_module = vacancy.find('span', {'class': pattern_finance})\n",
    "        finance = finance_module.text.replace('\\xa0', ' ')\n",
    "        if finance == 'По договорённости':\n",
    "            zp_min = None\n",
    "            zp_max = None\n",
    "            currency = None\n",
    "        else:        \n",
    "            pattern_number = re.compile('[0-9]{1,3}\\s{1}[0-9]{3}')\n",
    "            pattren_valuta = re.compile('₽')\n",
    "            pattren_ot = re.compile('от')\n",
    "            pattren_do = re.compile('до')\n",
    "\n",
    "            number = re.findall(pattern_number, finance)\n",
    "            valuta = re.findall(pattren_valuta, finance)\n",
    "            if valuta:\n",
    "                valuta = valuta[0] \n",
    "            if len(number) == 2:\n",
    "                zp_min = number[0]\n",
    "                zp_max = number[1]\n",
    "                currency = valuta\n",
    "            elif len(number) == 1:\n",
    "                ot = re.findall(pattren_ot, finance)\n",
    "                do = re.findall(pattren_do, finance)\n",
    "                if not do:\n",
    "                    zp_min = number[0]\n",
    "                    zp_max = None\n",
    "                    currency = valuta\n",
    "                elif not ot:\n",
    "                    zp_min = None\n",
    "                    zp_max = number[0]\n",
    "                    currency = valuta\n",
    "        \n",
    "        vac_data['Сайт'] = site\n",
    "        vac_data['Название вакансии'] = vacancy_name\n",
    "        vac_data['От'] = zp_min\n",
    "        vac_data['До'] = zp_max\n",
    "        vac_data['Валюта'] = currency\n",
    "        vac_data['Ссылка на вакансию'] = vacancy_link\n",
    "\n",
    "        vacancies.append(vac_data)"
   ]
  },
  {
   "cell_type": "code",
   "execution_count": 16,
   "metadata": {},
   "outputs": [],
   "source": [
    "def parse_hh(input_search):\n",
    "    for page_number in range(0,1000):\n",
    "        main_link = 'https://www.hh.ru'\n",
    "        begin_link = '/search/vacancy?L_is_autosearch=false&area=113&clusters=true&enable_snippets=true&text='\n",
    "        end_link = '&page='\n",
    "        page = str(page_number)\n",
    "        link = main_link + begin_link + input_search.replace(\" \",\"+\") + end_link + page\n",
    "\n",
    "        vacancies_hh(link=link)\n",
    "        try:\n",
    "            page_next_hh(link=link)\n",
    "        except AttributeError:\n",
    "            break"
   ]
  },
  {
   "cell_type": "code",
   "execution_count": 17,
   "metadata": {},
   "outputs": [],
   "source": [
    "def parse_sj(input_search):\n",
    "    for page_number in range(0,1000):\n",
    "        main_link = 'https://russia.superjob.ru'\n",
    "        begin_link = '/vacancy/search/?keywords='\n",
    "        end_link = '&page='\n",
    "        page = str(page_number)\n",
    "        link = main_link + begin_link+ input_search.replace(\" \",\"%20\") + end_link + page\n",
    "\n",
    "        vacancies_sj(link=link)\n",
    "        try:\n",
    "            page_next_sj(link=link)\n",
    "        except AttributeError:\n",
    "            break"
   ]
  },
  {
   "cell_type": "markdown",
   "metadata": {},
   "source": [
    "---"
   ]
  },
  {
   "cell_type": "code",
   "execution_count": 18,
   "metadata": {},
   "outputs": [],
   "source": [
    "def total_parse(search):\n",
    "    parse_hh(input_search=search)\n",
    "    parse_sj(input_search=search)"
   ]
  },
  {
   "cell_type": "markdown",
   "metadata": {},
   "source": [
    "## Итоговый парсинг"
   ]
  },
  {
   "cell_type": "code",
   "execution_count": 19,
   "metadata": {},
   "outputs": [],
   "source": [
    "vacancies = []\n",
    "# search = input('Введите название вакансии: ')\n",
    "search = 'python'\n",
    "total_parse(search)"
   ]
  },
  {
   "cell_type": "code",
   "execution_count": 20,
   "metadata": {},
   "outputs": [],
   "source": [
    "# y = 'superjob.ru'\n",
    "# x= '/vakansii/provizor-33574161.html'\n",
    "# print(y+x)"
   ]
  },
  {
   "cell_type": "markdown",
   "metadata": {},
   "source": [
    "---\n",
    "# Итог"
   ]
  },
  {
   "cell_type": "code",
   "execution_count": 21,
   "metadata": {},
   "outputs": [],
   "source": [
    "df = pd.DataFrame(vacancies)"
   ]
  },
  {
   "cell_type": "code",
   "execution_count": 22,
   "metadata": {},
   "outputs": [],
   "source": [
    "df.loc[df['Валюта'] == 'руб.', 'Валюта'] = 'RUB'\n",
    "df.loc[df['Валюта'] == '₽', 'Валюта'] = 'RUB'"
   ]
  },
  {
   "cell_type": "code",
   "execution_count": 23,
   "metadata": {},
   "outputs": [
    {
     "name": "stdout",
     "output_type": "stream",
     "text": [
      "размер = (2069, 6)\n"
     ]
    },
    {
     "data": {
      "text/html": [
       "<div>\n",
       "<style scoped>\n",
       "    .dataframe tbody tr th:only-of-type {\n",
       "        vertical-align: middle;\n",
       "    }\n",
       "\n",
       "    .dataframe tbody tr th {\n",
       "        vertical-align: top;\n",
       "    }\n",
       "\n",
       "    .dataframe thead th {\n",
       "        text-align: right;\n",
       "    }\n",
       "</style>\n",
       "<table border=\"1\" class=\"dataframe\">\n",
       "  <thead>\n",
       "    <tr style=\"text-align: right;\">\n",
       "      <th></th>\n",
       "      <th>Сайт</th>\n",
       "      <th>Название вакансии</th>\n",
       "      <th>От</th>\n",
       "      <th>До</th>\n",
       "      <th>Валюта</th>\n",
       "      <th>Ссылка на вакансию</th>\n",
       "    </tr>\n",
       "  </thead>\n",
       "  <tbody>\n",
       "    <tr>\n",
       "      <td>0</td>\n",
       "      <td>hh.ru</td>\n",
       "      <td>Программист Python</td>\n",
       "      <td>95000</td>\n",
       "      <td>None</td>\n",
       "      <td>RUB</td>\n",
       "      <td>https://orenburg.hh.ru/vacancy/36293188?query=...</td>\n",
       "    </tr>\n",
       "    <tr>\n",
       "      <td>1</td>\n",
       "      <td>hh.ru</td>\n",
       "      <td>Fullstack Python Developer</td>\n",
       "      <td>1700</td>\n",
       "      <td>2000</td>\n",
       "      <td>USD</td>\n",
       "      <td>https://orenburg.hh.ru/vacancy/36222549?query=...</td>\n",
       "    </tr>\n",
       "    <tr>\n",
       "      <td>2</td>\n",
       "      <td>hh.ru</td>\n",
       "      <td>Программист-разработчик python (midle)</td>\n",
       "      <td>90000</td>\n",
       "      <td>200000</td>\n",
       "      <td>RUB</td>\n",
       "      <td>https://orenburg.hh.ru/vacancy/35758988?query=...</td>\n",
       "    </tr>\n",
       "    <tr>\n",
       "      <td>3</td>\n",
       "      <td>hh.ru</td>\n",
       "      <td>Программист / Data Analyst</td>\n",
       "      <td>80000</td>\n",
       "      <td>None</td>\n",
       "      <td>RUB</td>\n",
       "      <td>https://orenburg.hh.ru/vacancy/36246190?query=...</td>\n",
       "    </tr>\n",
       "    <tr>\n",
       "      <td>4</td>\n",
       "      <td>hh.ru</td>\n",
       "      <td>Аналитик данных по продажам дилерской сети</td>\n",
       "      <td>None</td>\n",
       "      <td>None</td>\n",
       "      <td>None</td>\n",
       "      <td>https://orenburg.hh.ru/vacancy/36291421?query=...</td>\n",
       "    </tr>\n",
       "  </tbody>\n",
       "</table>\n",
       "</div>"
      ],
      "text/plain": [
       "    Сайт                           Название вакансии     От      До Валюта  \\\n",
       "0  hh.ru                          Программист Python  95000    None    RUB   \n",
       "1  hh.ru                  Fullstack Python Developer   1700    2000    USD   \n",
       "2  hh.ru      Программист-разработчик python (midle)  90000  200000    RUB   \n",
       "3  hh.ru                  Программист / Data Analyst  80000    None    RUB   \n",
       "4  hh.ru  Аналитик данных по продажам дилерской сети   None    None   None   \n",
       "\n",
       "                                  Ссылка на вакансию  \n",
       "0  https://orenburg.hh.ru/vacancy/36293188?query=...  \n",
       "1  https://orenburg.hh.ru/vacancy/36222549?query=...  \n",
       "2  https://orenburg.hh.ru/vacancy/35758988?query=...  \n",
       "3  https://orenburg.hh.ru/vacancy/36246190?query=...  \n",
       "4  https://orenburg.hh.ru/vacancy/36291421?query=...  "
      ]
     },
     "execution_count": 23,
     "metadata": {},
     "output_type": "execute_result"
    }
   ],
   "source": [
    "print(f'размер = {df.shape}')\n",
    "df.head()"
   ]
  },
  {
   "cell_type": "code",
   "execution_count": 24,
   "metadata": {},
   "outputs": [
    {
     "data": {
      "text/plain": [
       "hh.ru          2000\n",
       "superjob.ru      69\n",
       "Name: Сайт, dtype: int64"
      ]
     },
     "execution_count": 24,
     "metadata": {},
     "output_type": "execute_result"
    }
   ],
   "source": [
    "df['Сайт'].value_counts()"
   ]
  },
  {
   "cell_type": "code",
   "execution_count": 25,
   "metadata": {},
   "outputs": [],
   "source": [
    "# print(datetime.today().strftime(\"%Y_%m_%d\") )"
   ]
  },
  {
   "cell_type": "code",
   "execution_count": 26,
   "metadata": {},
   "outputs": [],
   "source": [
    "df.to_excel(f'vacancies_{search}_{datetime.today().strftime(\"%Y_%m_%d\")}.xlsx', \n",
    "            index = None, \n",
    "            header=True)"
   ]
  },
  {
   "cell_type": "code",
   "execution_count": null,
   "metadata": {},
   "outputs": [],
   "source": [
    "# df.to_json(f'vacancies_{search}_{datetime.today().strftime(\"%Y_%m_%d\")}.json',orient='index')"
   ]
  },
  {
   "cell_type": "code",
   "execution_count": 29,
   "metadata": {},
   "outputs": [],
   "source": [
    "with open(f'vacancies_{search}_{datetime.today().strftime(\"%Y_%m_%d\")}.json', \"w\",\n",
    "          encoding=\"utf-8\") as file:\n",
    "    json.dump(vacancies, file)"
   ]
  },
  {
   "cell_type": "code",
   "execution_count": null,
   "metadata": {},
   "outputs": [],
   "source": []
  }
 ],
 "metadata": {
  "kernelspec": {
   "display_name": "Python 3",
   "language": "python",
   "name": "python3"
  },
  "language_info": {
   "codemirror_mode": {
    "name": "ipython",
    "version": 3
   },
   "file_extension": ".py",
   "mimetype": "text/x-python",
   "name": "python",
   "nbconvert_exporter": "python",
   "pygments_lexer": "ipython3",
   "version": "3.7.4"
  }
 },
 "nbformat": 4,
 "nbformat_minor": 4
}
