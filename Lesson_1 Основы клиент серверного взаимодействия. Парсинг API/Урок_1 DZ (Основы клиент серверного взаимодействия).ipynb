{
 "cells": [
  {
   "cell_type": "markdown",
   "metadata": {
    "colab_type": "text",
    "id": "puNrk-0QziI_"
   },
   "source": [
    "# Практическое задание по теме \"Основы клиент-серверного взаимодействия. Парсинг API\"\n"
   ]
  },
  {
   "cell_type": "markdown",
   "metadata": {
    "colab_type": "text",
    "id": "OcH7NN_uzeYs"
   },
   "source": [
    "## 1. Посмотреть документацию к API GitHub, разобраться как вывести список репозиториев для конкретного пользователя, сохранить JSON-вывод в файле *.json."
   ]
  },
  {
   "cell_type": "code",
   "execution_count": 6,
   "metadata": {},
   "outputs": [],
   "source": [
    "# import getpass"
   ]
  },
  {
   "cell_type": "code",
   "execution_count": 87,
   "metadata": {
    "colab": {},
    "colab_type": "code",
    "id": "gTxOSlQq0nYR"
   },
   "outputs": [],
   "source": [
    "from pprint import pprint\n",
    "import requests\n",
    "import json"
   ]
  },
  {
   "cell_type": "code",
   "execution_count": 33,
   "metadata": {
    "colab": {},
    "colab_type": "code",
    "id": "gTxOSlQq0nYR"
   },
   "outputs": [],
   "source": [
    "User_Agent = \"Mozilla/5.0 (Windows NT 10.0; Win64; x64) AppleWebKit/537.36 (KHTML, like Gecko) Chrome/80.0.3987.132 Safari/537.36\""
   ]
  },
  {
   "cell_type": "code",
   "execution_count": 34,
   "metadata": {
    "colab": {},
    "colab_type": "code",
    "id": "sp4zyVp51QzI"
   },
   "outputs": [],
   "source": [
    "def list_repo(username):\n",
    "    \"\"\"Функцция выводит количество и список репозиториев на github заданного пользователя\n",
    "    \"\"\"\n",
    "    main_link = f'https://api.github.com/users/{username}/repos'\n",
    "    headers = {\n",
    "        'User-Agent': User_Agent}\n",
    "\n",
    "    params = {\n",
    "        'sort': 'updated'\n",
    "    }\n",
    "\n",
    "    response = requests.get(main_link, params=params, headers=headers)\n",
    "    data = json.loads(response.text)\n",
    "    \n",
    "    print(f'У пользователя {username} {len(data)} репозирориев' + '\\n' + '_' * 100)\n",
    "    print('Список репозиториев:')\n",
    "    \n",
    "    with open(\"user_repo.json\", \"w\", encoding=\"utf-8\") as f:\n",
    "        json.dump(data, f)\n",
    "    \n",
    "#     with open('user_repo.json', 'w') as f:\n",
    "#         f.write(json(data))    \n",
    "    \n",
    "    for i in data:\n",
    "        print(i['name'])\n"
   ]
  },
  {
   "cell_type": "code",
   "execution_count": 35,
   "metadata": {
    "colab": {
     "base_uri": "https://localhost:8080/",
     "height": 194
    },
    "colab_type": "code",
    "id": "_n5MiA4GCVyN",
    "outputId": "481d5901-aeda-4516-df6c-78b54dd121de"
   },
   "outputs": [
    {
     "name": "stdout",
     "output_type": "stream",
     "text": [
      "У пользователя koryagin2006 8 репозирориев\n",
      "____________________________________________________________________________________________________\n",
      "Список репозиториев:\n",
      "GB_Course_Methods_of_collecting_and_processing_data_from_the_network\n",
      "GB_course_Object_Oriented_Programming\n",
      "GB_Course_Python_Libraries_for_Data_Science\n",
      "GB_Course_Introduction_to_Higher_Mathematics\n",
      "002_GB_Course_Basics_Python\n",
      "001_git_repo\n",
      "GB_course-Basics-of-programming-video-course\n",
      "GB_Course_Database\n"
     ]
    }
   ],
   "source": [
    "list_repo(username='koryagin2006')"
   ]
  },
  {
   "cell_type": "markdown",
   "metadata": {},
   "source": [
    "Проверка (при необходимости раскоментировать)"
   ]
  },
  {
   "cell_type": "code",
   "execution_count": 1,
   "metadata": {},
   "outputs": [],
   "source": [
    "import pandas as pd\n",
    "df = pd.read_json('user_repo.json')"
   ]
  },
  {
   "cell_type": "code",
   "execution_count": 15,
   "metadata": {},
   "outputs": [
    {
     "data": {
      "text/html": [
       "<div>\n",
       "<style scoped>\n",
       "    .dataframe tbody tr th:only-of-type {\n",
       "        vertical-align: middle;\n",
       "    }\n",
       "\n",
       "    .dataframe tbody tr th {\n",
       "        vertical-align: top;\n",
       "    }\n",
       "\n",
       "    .dataframe thead th {\n",
       "        text-align: right;\n",
       "    }\n",
       "</style>\n",
       "<table border=\"1\" class=\"dataframe\">\n",
       "  <thead>\n",
       "    <tr style=\"text-align: right;\">\n",
       "      <th></th>\n",
       "      <th>name</th>\n",
       "      <th>updated_at</th>\n",
       "    </tr>\n",
       "  </thead>\n",
       "  <tbody>\n",
       "    <tr>\n",
       "      <td>0</td>\n",
       "      <td>GB_Course_Methods_of_collecting_and_processing...</td>\n",
       "      <td>2020-03-08 06:04:57+00:00</td>\n",
       "    </tr>\n",
       "    <tr>\n",
       "      <td>1</td>\n",
       "      <td>GB_course_Object_Oriented_Programming</td>\n",
       "      <td>2020-03-04 21:13:23+00:00</td>\n",
       "    </tr>\n",
       "    <tr>\n",
       "      <td>2</td>\n",
       "      <td>GB_Course_Python_Libraries_for_Data_Science</td>\n",
       "      <td>2020-03-04 11:41:07+00:00</td>\n",
       "    </tr>\n",
       "    <tr>\n",
       "      <td>3</td>\n",
       "      <td>GB_Course_Introduction_to_Higher_Mathematics</td>\n",
       "      <td>2020-03-04 08:02:49+00:00</td>\n",
       "    </tr>\n",
       "    <tr>\n",
       "      <td>4</td>\n",
       "      <td>002_GB_Course_Basics_Python</td>\n",
       "      <td>2020-02-10 18:32:31+00:00</td>\n",
       "    </tr>\n",
       "    <tr>\n",
       "      <td>5</td>\n",
       "      <td>001_git_repo</td>\n",
       "      <td>2020-02-10 18:31:48+00:00</td>\n",
       "    </tr>\n",
       "    <tr>\n",
       "      <td>6</td>\n",
       "      <td>GB_course-Basics-of-programming-video-course</td>\n",
       "      <td>2020-01-06 21:41:21+00:00</td>\n",
       "    </tr>\n",
       "    <tr>\n",
       "      <td>7</td>\n",
       "      <td>GB_Course_Database</td>\n",
       "      <td>2019-12-30 20:28:54+00:00</td>\n",
       "    </tr>\n",
       "  </tbody>\n",
       "</table>\n",
       "</div>"
      ],
      "text/plain": [
       "                                                name                updated_at\n",
       "0  GB_Course_Methods_of_collecting_and_processing... 2020-03-08 06:04:57+00:00\n",
       "1              GB_course_Object_Oriented_Programming 2020-03-04 21:13:23+00:00\n",
       "2        GB_Course_Python_Libraries_for_Data_Science 2020-03-04 11:41:07+00:00\n",
       "3       GB_Course_Introduction_to_Higher_Mathematics 2020-03-04 08:02:49+00:00\n",
       "4                        002_GB_Course_Basics_Python 2020-02-10 18:32:31+00:00\n",
       "5                                       001_git_repo 2020-02-10 18:31:48+00:00\n",
       "6       GB_course-Basics-of-programming-video-course 2020-01-06 21:41:21+00:00\n",
       "7                                 GB_Course_Database 2019-12-30 20:28:54+00:00"
      ]
     },
     "execution_count": 15,
     "metadata": {},
     "output_type": "execute_result"
    }
   ],
   "source": [
    "df.loc[:,['name', 'updated_at']]"
   ]
  },
  {
   "cell_type": "markdown",
   "metadata": {
    "colab_type": "text",
    "id": "qply-E4f-W7t"
   },
   "source": [
    "---"
   ]
  },
  {
   "cell_type": "markdown",
   "metadata": {
    "colab_type": "text",
    "id": "OEDr4qMvzc5M"
   },
   "source": [
    "## 2. Изучить список открытых API. Найти среди них любое, требующее авторизацию (любого типа). Выполнить запросы к нему, пройдя авторизацию. Ответ сервера записать в файл."
   ]
  },
  {
   "cell_type": "code",
   "execution_count": 136,
   "metadata": {},
   "outputs": [],
   "source": [
    "def vk(method,params):\n",
    "    token = \"13f2931847b8647e36953cd8319cc43db83c1d412ef72494d343577661c857a13fb7be5c8984f5a3fed6c&expires_in=86400&user_id=11864913\"\n",
    "    main_link = f\"https://api.vk.com/method/{method}?v=5.52&access_token={token}\"\n",
    "\n",
    "    headers = {\n",
    "        'User-Agent': User_Agent\n",
    "    }\n",
    "\n",
    "    response = requests.get(main_link,params=params)\n",
    "    data = json.loads(response.text)\n",
    "    return data[\"response\"]"
   ]
  },
  {
   "cell_type": "code",
   "execution_count": 140,
   "metadata": {},
   "outputs": [
    {
     "data": {
      "text/plain": [
       "[22213159, 53169925, 85146530, 90234969, 94770869, 141480014]"
      ]
     },
     "execution_count": 140,
     "metadata": {},
     "output_type": "execute_result"
    }
   ],
   "source": [
    "vk(method = \"friends.getOnline\",\n",
    "   params = {'online_mobile':1})['online_mobile']"
   ]
  },
  {
   "cell_type": "code",
   "execution_count": 141,
   "metadata": {},
   "outputs": [
    {
     "data": {
      "text/plain": [
       "{'count': 1,\n",
       " 'items': [{'id': 456241991,\n",
       "   'album_id': -7,\n",
       "   'owner_id': 154769492,\n",
       "   'photo_75': 'https://sun9-4.userapi.com/c845416/v845416828/82420/5BxRQk7y7YU.jpg',\n",
       "   'photo_130': 'https://sun9-7.userapi.com/c845416/v845416828/82421/3Srjiq9yjR8.jpg',\n",
       "   'photo_604': 'https://sun9-43.userapi.com/c845416/v845416828/82422/nl7C7fuS2cc.jpg',\n",
       "   'width': 527,\n",
       "   'height': 463,\n",
       "   'text': '',\n",
       "   'date': 1529217188,\n",
       "   'access_key': '662b620bd106eec33b'}]}"
      ]
     },
     "execution_count": 141,
     "metadata": {},
     "output_type": "execute_result"
    }
   ],
   "source": [
    "vk(method = \"photos.getUserPhotos\",\n",
    "   params = {'user_id':90234969})"
   ]
  }
 ],
 "metadata": {
  "colab": {
   "collapsed_sections": [],
   "name": "Урок 1. DZ.ipynb",
   "provenance": []
  },
  "kernelspec": {
   "display_name": "Python 3",
   "language": "python",
   "name": "python3"
  },
  "language_info": {
   "codemirror_mode": {
    "name": "ipython",
    "version": 3
   },
   "file_extension": ".py",
   "mimetype": "text/x-python",
   "name": "python",
   "nbconvert_exporter": "python",
   "pygments_lexer": "ipython3",
   "version": "3.7.4"
  }
 },
 "nbformat": 4,
 "nbformat_minor": 4
}
