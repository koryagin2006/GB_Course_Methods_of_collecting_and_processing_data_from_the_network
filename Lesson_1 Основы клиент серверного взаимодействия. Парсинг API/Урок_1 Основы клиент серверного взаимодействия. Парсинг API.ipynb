{
  "nbformat": 4,
  "nbformat_minor": 0,
  "metadata": {
    "colab": {
      "name": "Урок 1. Основы клиент-серверного взаимодействия. Парсинг API.ipynb",
      "provenance": [],
      "collapsed_sections": []
    },
    "kernelspec": {
      "name": "python3",
      "display_name": "Python 3"
    }
  },
  "cells": [
    {
      "cell_type": "code",
      "metadata": {
        "id": "hAAoJJbAyzrY",
        "colab_type": "code",
        "outputId": "bb81669d-4ab5-42d1-e62f-133f71dfb4a4",
        "colab": {
          "base_uri": "https://localhost:8080/",
          "height": 87
        }
      },
      "source": [
        "from pprint import pprint\n",
        "import requests\n",
        "import json\n",
        "\n",
        "main_link='https://api.openweathermap.org/data/2.5/weather'\n",
        "\n",
        "header = {'User-Agent':'Mozilla/5.0 (Windows NT 10.0; Win64; x64) AppleWebKit/537.36 (KHTML, like Gecko) Chrome/80.0.3987.132 Safari/537.36'}\n",
        "# city_list = input('Введите на звание города на английском')\n",
        "city_list = ['Moscow','Kaliningrad','Omsk','Samara']\n",
        "appid = 'e5e4cd692a72b0b66ea0a6b80255d1c3'\n",
        "# requests.get(f'{main_link}?q={city}&appid={appid}')\n",
        "\n",
        "# params = {\n",
        "#     'q':city,\n",
        "#     'appid':appid\n",
        "# }\n",
        "# response = requests.get(main_link,params=params)\n",
        "\n",
        "\n",
        "for city in city_list:\n",
        "    response = requests.get(f'{main_link}?q={city}&appid={appid}')\n",
        "    data = json.loads(response.text)\n",
        "    # pprint(data)\n",
        "    print(f'В городе {data[\"name\"]} температура {round(data[\"main\"][\"temp\"] - 273.15,1)} градусов')"
      ],
      "execution_count": 0,
      "outputs": [
        {
          "output_type": "stream",
          "text": [
            "В городе Moscow температура 4.0 градусов\n",
            "В городе Kaliningrad температура 4.0 градусов\n",
            "В городе Omsk температура -10.0 градусов\n",
            "В городе Samara Oblast температура 1.0 градусов\n"
          ],
          "name": "stdout"
        }
      ]
    },
    {
      "cell_type": "code",
      "metadata": {
        "id": "_yQFqyz32Lr3",
        "colab_type": "code",
        "outputId": "cddeb8c1-0ebc-47c3-f8e7-6ccf0af8b5ca",
        "colab": {
          "base_uri": "https://localhost:8080/",
          "height": 52
        }
      },
      "source": [
        "main_link='https://api.openweathermap.org/data/2.5/weather'\n",
        "\n",
        "header = {'User-Agent':'Mozilla/5.0 (Windows NT 10.0; Win64; x64) AppleWebKit/537.36 (KHTML, like Gecko) Chrome/80.0.3987.132 Safari/537.36'}\n",
        "city_list = input('Введите на звание города на английском: ')\n",
        "# city_list = ['Moscow','Kaliningrad','Omsk','Samara']\n",
        "appid = 'e5e4cd692a72b0b66ea0a6b80255d1c3'\n",
        "# requests.get(f'{main_link}?q={city}&appid={appid}')\n",
        "\n",
        "# params = {\n",
        "#     'q':city,\n",
        "#     'appid':appid\n",
        "# }\n",
        "# response = requests.get(main_link,params=params)\n",
        "\n",
        "\n",
        "\n",
        "response = requests.get(f'{main_link}?q={city}&appid={appid}')\n",
        "data = json.loads(response.text)\n",
        "# pprint(data)\n",
        "print(f'В городе {data[\"name\"]} температура {round(data[\"main\"][\"temp\"] - 273.15,1)} градусов')"
      ],
      "execution_count": 0,
      "outputs": [
        {
          "output_type": "stream",
          "text": [
            "Введите на звание города на английскомOmsk\n",
            "В городе Samara Oblast температура 1.0 градусов\n"
          ],
          "name": "stdout"
        }
      ]
    }
  ]
}