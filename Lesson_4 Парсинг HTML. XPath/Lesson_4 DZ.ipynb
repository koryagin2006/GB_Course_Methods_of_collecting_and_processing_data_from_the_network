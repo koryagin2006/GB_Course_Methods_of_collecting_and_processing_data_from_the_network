{
 "cells": [
  {
   "cell_type": "markdown",
   "metadata": {
    "Collapsed": "false"
   },
   "source": [
    "# Задание\n",
    "\n",
    "1. Написать приложение, которое собирает основные новости с сайтов `mail.ru, lenta.ru, yandex.news`\n",
    "2. Сложить все новости в БД\n",
    "\n",
    "Для парсинга использовать xpath. Структура данных должна содержать:\n",
    "- название источника,\n",
    "- наименование новости,\n",
    "- ссылку на новость,\n",
    "- дата публикации"
   ]
  },
  {
   "cell_type": "markdown",
   "metadata": {
    "Collapsed": "false"
   },
   "source": [
    "### Подключение библиотек"
   ]
  },
  {
   "cell_type": "code",
   "execution_count": 169,
   "metadata": {
    "Collapsed": "false"
   },
   "outputs": [],
   "source": [
    "import requests\n",
    "from pprint import pprint\n",
    "from lxml import html\n",
    "from pymongo import MongoClient\n",
    "from datetime import datetime\n",
    "import json"
   ]
  },
  {
   "cell_type": "markdown",
   "metadata": {
    "Collapsed": "false"
   },
   "source": [
    "---"
   ]
  },
  {
   "cell_type": "markdown",
   "metadata": {
    "Collapsed": "false"
   },
   "source": [
    "### Запуск сервера"
   ]
  },
  {
   "cell_type": "code",
   "execution_count": 170,
   "metadata": {
    "Collapsed": "false"
   },
   "outputs": [
    {
     "name": "stdout",
     "output_type": "stream",
     "text": [
      "connected successfully\n"
     ]
    }
   ],
   "source": [
    "try:\n",
    "    client = MongoClient('localhost',27017)\n",
    "    print('connected successfully')\n",
    "except:\n",
    "    print('bad connection')\n",
    "\n",
    "db = client['database_news_dz4']  # создание БД\n",
    "news_from_3_sites = db.news_from_3_sites  # содание коллекции"
   ]
  },
  {
   "cell_type": "markdown",
   "metadata": {
    "Collapsed": "false"
   },
   "source": [
    "---"
   ]
  },
  {
   "cell_type": "code",
   "execution_count": 171,
   "metadata": {
    "Collapsed": "false"
   },
   "outputs": [],
   "source": [
    "main_link_mail = 'https://news.mail.ru/go-mobile/'\n",
    "main_link_ya = 'https://yandex.ru/news/'\n",
    "main_link_lenta = 'https://lenta.ru'\n",
    "\n",
    "header = {'User-Agent':'Mozilla/5.0 (Windows NT 10.0; Win64; x64) AppleWebKit/537.36 (KHTML, like Gecko) Chrome/80.0.3987.132 Safari/537.36'}\n",
    "\n",
    "def tree(main_link):\n",
    "    response = requests.get(main_link, headers=header).text\n",
    "    tree = html.fromstring(response)\n",
    "    return tree"
   ]
  },
  {
   "cell_type": "code",
   "execution_count": 172,
   "metadata": {
    "Collapsed": "false"
   },
   "outputs": [],
   "source": [
    "# - название источника,\n",
    "# - наименование новости,\n",
    "# - ссылку на новость,\n",
    "# - дата публикации"
   ]
  },
  {
   "cell_type": "code",
   "execution_count": 173,
   "metadata": {
    "Collapsed": "false"
   },
   "outputs": [],
   "source": [
    "# news_all = []"
   ]
  },
  {
   "cell_type": "markdown",
   "metadata": {
    "Collapsed": "false"
   },
   "source": [
    "### Сбор новостей"
   ]
  },
  {
   "cell_type": "markdown",
   "metadata": {
    "Collapsed": "true"
   },
   "source": [
    "#### https://yandex.ru/news/"
   ]
  },
  {
   "cell_type": "code",
   "execution_count": 174,
   "metadata": {
    "Collapsed": "false"
   },
   "outputs": [],
   "source": [
    "news_list_ya = tree(main_link_ya).xpath(\"//div[@class='story__topic']\")"
   ]
  },
  {
   "cell_type": "code",
   "execution_count": 175,
   "metadata": {
    "Collapsed": "false"
   },
   "outputs": [],
   "source": [
    "for news in news_list_ya:\n",
    "    news_data={}\n",
    "    \n",
    "    name = str(news.xpath(\".//h2[@class='story__title']/a/text()\")[0])\n",
    "    origin = str(news.xpath(\"..//div[@class='story__info']/div[1]/text()\")[0])[:-5]\n",
    "    href = 'https://yandex.ru' + str(news.xpath(\".//h2[@class='story__title']/a/@href\")[0])\n",
    "    date_time = str(datetime.now())[:10] + str(news.xpath(\"..//div[@class='story__info']/div[1]/text()\")[0])[-5:]    \n",
    "    \n",
    "    news_data['1 название источника'] = origin\n",
    "    news_data['2 наименование новости'] = name\n",
    "    news_data['3 ссылка на новость'] = href\n",
    "    news_data['4 дата публикации'] = date_time\n",
    "    \n",
    "    news_from_3_sites.insert_one(news_data)"
   ]
  },
  {
   "cell_type": "markdown",
   "metadata": {
    "Collapsed": "false"
   },
   "source": [
    "#### https://lenta.ru/"
   ]
  },
  {
   "cell_type": "code",
   "execution_count": 176,
   "metadata": {
    "Collapsed": "false"
   },
   "outputs": [],
   "source": [
    "news_list_lenta = tree(main_link_lenta).xpath(\"//section[@class='row b-top7-for-main js-top-seven']/div[@class='span4']/div\")"
   ]
  },
  {
   "cell_type": "code",
   "execution_count": 177,
   "metadata": {
    "Collapsed": "false"
   },
   "outputs": [],
   "source": [
    "for news in news_list_lenta[:-1]:\n",
    "    news_data={}\n",
    "    \n",
    "    name = str(news.xpath(\".//a[1]/text()\")[0])\n",
    "    origin = 'lenta.ru'\n",
    "    href = main_link_lenta + str(news.xpath(\"./a/@href\")[0])\n",
    "    date_time = str(news.xpath(\".//a[1]/time[1]/@title\")[0])\n",
    "      \n",
    "    news_data['1 название источника'] = origin\n",
    "    news_data['2 наименование новости'] = name\n",
    "    news_data['3 ссылка на новость'] = href\n",
    "    news_data['4 дата публикации'] = date_time\n",
    "    \n",
    "    news_from_3_sites.insert_one(news_data)"
   ]
  },
  {
   "cell_type": "markdown",
   "metadata": {
    "Collapsed": "false"
   },
   "source": [
    "#### https://news.mail.ru/"
   ]
  },
  {
   "cell_type": "code",
   "execution_count": 178,
   "metadata": {
    "Collapsed": "false"
   },
   "outputs": [],
   "source": [
    "tree_mail = tree(main_link_mail)"
   ]
  },
  {
   "cell_type": "code",
   "execution_count": 179,
   "metadata": {
    "Collapsed": "false"
   },
   "outputs": [],
   "source": [
    "news_mail_photo = tree_mail.xpath(\"//a[@class='photo']\")\n",
    "news_list_mail = tree_mail.xpath(\"//a[@class='item item_side_left entity']\")"
   ]
  },
  {
   "cell_type": "code",
   "execution_count": 180,
   "metadata": {
    "Collapsed": "false"
   },
   "outputs": [],
   "source": [
    "def photo_mail():\n",
    "    news_data={}\n",
    "    \n",
    "    name = news_mail_photo[0].xpath(\"//span[@class='photo__title']/text()\")[0]\n",
    "    href = 'https://news.mail.ru' + news_mail_photo[0].xpath(\"./@href\")[0]\n",
    "    origin = tree(href).xpath(\"//a[@class='link color_gray breadcrumbs__link']//span[@class='link__text']/text()\")[0]\n",
    "    date_time = tree(href).xpath(\"//span[@class='note__text breadcrumbs__text js-ago']/@datetime\")[0]\n",
    "    \n",
    "    news_data['1 название источника'] = origin\n",
    "    news_data['2 наименование новости'] = name\n",
    "    news_data['3 ссылка на новость'] = href\n",
    "    news_data['4 дата публикации'] = date_time\n",
    "    \n",
    "    news_from_3_sites.insert_one(news_data)\n",
    "\n",
    "photo_mail()"
   ]
  },
  {
   "cell_type": "code",
   "execution_count": 185,
   "metadata": {
    "Collapsed": "false"
   },
   "outputs": [],
   "source": [
    "def list_mail():\n",
    "    for news_one in news_list_mail[:10]:\n",
    "        news_data={}\n",
    "        href = 'https://news.mail.ru' + news_one.xpath(\"./@href\")[0]\n",
    "        name = tree(href).xpath(\"//h1[@class='hdr__inner']/text()\")[0]\n",
    "        origin = tree(href).xpath(\"//a[@class='link color_gray breadcrumbs__link']//span[@class='link__text']/text()\")[0]\n",
    "        date_time = tree(href).xpath(\"//span[@class='note__text breadcrumbs__text js-ago']/@datetime\")[0]\n",
    "    \n",
    "        news_data['1 название источника'] = origin\n",
    "        news_data['2 наименование новости'] = name\n",
    "        news_data['3 ссылка на новость'] = href\n",
    "        news_data['4 дата публикации'] = date_time\n",
    "        \n",
    "#         pprint(news_data)\n",
    "        news_from_3_sites.insert_one(news_data)\n",
    "\n",
    "list_mail()"
   ]
  },
  {
   "cell_type": "markdown",
   "metadata": {
    "Collapsed": "false"
   },
   "source": [
    "### Проверка"
   ]
  },
  {
   "cell_type": "code",
   "execution_count": 186,
   "metadata": {
    "Collapsed": "false"
   },
   "outputs": [
    {
     "data": {
      "text/html": [
       "<div>\n",
       "<style scoped>\n",
       "    .dataframe tbody tr th:only-of-type {\n",
       "        vertical-align: middle;\n",
       "    }\n",
       "\n",
       "    .dataframe tbody tr th {\n",
       "        vertical-align: top;\n",
       "    }\n",
       "\n",
       "    .dataframe thead th {\n",
       "        text-align: right;\n",
       "    }\n",
       "</style>\n",
       "<table border=\"1\" class=\"dataframe\">\n",
       "  <thead>\n",
       "    <tr style=\"text-align: right;\">\n",
       "      <th></th>\n",
       "      <th>1 название источника</th>\n",
       "      <th>2 наименование новости</th>\n",
       "      <th>3 ссылка на новость</th>\n",
       "      <th>4 дата публикации</th>\n",
       "    </tr>\n",
       "  </thead>\n",
       "  <tbody>\n",
       "    <tr>\n",
       "      <th>0</th>\n",
       "      <td>RT на русском</td>\n",
       "      <td>Силуанов разъяснил налог на проценты по банков...</td>\n",
       "      <td>https://yandex.ru/news/story/Siluanov_razyasni...</td>\n",
       "      <td>2020-03-2702:01</td>\n",
       "    </tr>\n",
       "    <tr>\n",
       "      <th>1</th>\n",
       "      <td>Ведомости</td>\n",
       "      <td>Власти Москвы могут продлить выходные из-за ко...</td>\n",
       "      <td>https://yandex.ru/news/story/Vlasti_Moskvy_mog...</td>\n",
       "      <td>2020-03-2702:06</td>\n",
       "    </tr>\n",
       "    <tr>\n",
       "      <th>2</th>\n",
       "      <td>Lenta.ru</td>\n",
       "      <td>В России ответили на критику помощи Италии в б...</td>\n",
       "      <td>https://yandex.ru/news/story/V_Rossii_otvetili...</td>\n",
       "      <td>2020-03-2701:40</td>\n",
       "    </tr>\n",
       "    <tr>\n",
       "      <th>3</th>\n",
       "      <td>Газета.Ru</td>\n",
       "      <td>Размер штрафа за нарушение карантина может дос...</td>\n",
       "      <td>https://yandex.ru/news/story/Razmer_shtrafa_za...</td>\n",
       "      <td>2020-03-2701:39</td>\n",
       "    </tr>\n",
       "    <tr>\n",
       "      <th>4</th>\n",
       "      <td>RT на русском</td>\n",
       "      <td>США назначили награду в $15 млн за помощь в ар...</td>\n",
       "      <td>https://yandex.ru/news/story/SSHA_naznachili_n...</td>\n",
       "      <td>2020-03-2702:14</td>\n",
       "    </tr>\n",
       "    <tr>\n",
       "      <th>...</th>\n",
       "      <td>...</td>\n",
       "      <td>...</td>\n",
       "      <td>...</td>\n",
       "      <td>...</td>\n",
       "    </tr>\n",
       "    <tr>\n",
       "      <th>81</th>\n",
       "      <td>РИА Новости</td>\n",
       "      <td>Украина с пятницы закроет границы</td>\n",
       "      <td>https://news.mail.ru/politics/41113911/</td>\n",
       "      <td>2020-03-26T20:24:51+03:00</td>\n",
       "    </tr>\n",
       "    <tr>\n",
       "      <th>82</th>\n",
       "      <td>BBC News Русская служба</td>\n",
       "      <td>«Необычно высокая активность». Британский флот...</td>\n",
       "      <td>https://news.mail.ru/politics/41110455/</td>\n",
       "      <td>2020-03-26T19:36:58+03:00</td>\n",
       "    </tr>\n",
       "    <tr>\n",
       "      <th>83</th>\n",
       "      <td>РИА Новости</td>\n",
       "      <td>США обвинили Мадуро в наркоторговле и объявили...</td>\n",
       "      <td>https://news.mail.ru/politics/41112457/</td>\n",
       "      <td>2020-03-26T18:41:43+03:00</td>\n",
       "    </tr>\n",
       "    <tr>\n",
       "      <th>84</th>\n",
       "      <td>Lenta.Ru</td>\n",
       "      <td>Раскрыты детали налога на вклады в России</td>\n",
       "      <td>https://news.mail.ru/economics/41111979/</td>\n",
       "      <td>2020-03-26T18:20:01+03:00</td>\n",
       "    </tr>\n",
       "    <tr>\n",
       "      <th>85</th>\n",
       "      <td>Ведомости</td>\n",
       "      <td>Налог на процент по вкладам в Кремле назвали «...</td>\n",
       "      <td>https://news.mail.ru/economics/41107263/</td>\n",
       "      <td>2020-03-26T14:51:40+03:00</td>\n",
       "    </tr>\n",
       "  </tbody>\n",
       "</table>\n",
       "<p>86 rows × 4 columns</p>\n",
       "</div>"
      ],
      "text/plain": [
       "       1 название источника  \\\n",
       "0            RT на русском    \n",
       "1                Ведомости    \n",
       "2                 Lenta.ru    \n",
       "3                Газета.Ru    \n",
       "4            RT на русском    \n",
       "..                      ...   \n",
       "81              РИА Новости   \n",
       "82  BBC News Русская служба   \n",
       "83              РИА Новости   \n",
       "84                 Lenta.Ru   \n",
       "85                Ведомости   \n",
       "\n",
       "                               2 наименование новости  \\\n",
       "0   Силуанов разъяснил налог на проценты по банков...   \n",
       "1   Власти Москвы могут продлить выходные из-за ко...   \n",
       "2   В России ответили на критику помощи Италии в б...   \n",
       "3   Размер штрафа за нарушение карантина может дос...   \n",
       "4   США назначили награду в $15 млн за помощь в ар...   \n",
       "..                                                ...   \n",
       "81                  Украина с пятницы закроет границы   \n",
       "82  «Необычно высокая активность». Британский флот...   \n",
       "83  США обвинили Мадуро в наркоторговле и объявили...   \n",
       "84          Раскрыты детали налога на вклады в России   \n",
       "85  Налог на процент по вкладам в Кремле назвали «...   \n",
       "\n",
       "                                  3 ссылка на новость  \\\n",
       "0   https://yandex.ru/news/story/Siluanov_razyasni...   \n",
       "1   https://yandex.ru/news/story/Vlasti_Moskvy_mog...   \n",
       "2   https://yandex.ru/news/story/V_Rossii_otvetili...   \n",
       "3   https://yandex.ru/news/story/Razmer_shtrafa_za...   \n",
       "4   https://yandex.ru/news/story/SSHA_naznachili_n...   \n",
       "..                                                ...   \n",
       "81            https://news.mail.ru/politics/41113911/   \n",
       "82            https://news.mail.ru/politics/41110455/   \n",
       "83            https://news.mail.ru/politics/41112457/   \n",
       "84           https://news.mail.ru/economics/41111979/   \n",
       "85           https://news.mail.ru/economics/41107263/   \n",
       "\n",
       "            4 дата публикации  \n",
       "0             2020-03-2702:01  \n",
       "1             2020-03-2702:06  \n",
       "2             2020-03-2701:40  \n",
       "3             2020-03-2701:39  \n",
       "4             2020-03-2702:14  \n",
       "..                        ...  \n",
       "81  2020-03-26T20:24:51+03:00  \n",
       "82  2020-03-26T19:36:58+03:00  \n",
       "83  2020-03-26T18:41:43+03:00  \n",
       "84  2020-03-26T18:20:01+03:00  \n",
       "85  2020-03-26T14:51:40+03:00  \n",
       "\n",
       "[86 rows x 4 columns]"
      ]
     },
     "execution_count": 186,
     "metadata": {},
     "output_type": "execute_result"
    }
   ],
   "source": [
    "from pandas import DataFrame\n",
    "\n",
    "cursor = news_from_3_sites.find({})\n",
    "DataFrame(list(cursor)).drop(['_id'], axis=1)"
   ]
  },
  {
   "cell_type": "markdown",
   "metadata": {
    "Collapsed": "false"
   },
   "source": [
    "---"
   ]
  },
  {
   "cell_type": "markdown",
   "metadata": {
    "Collapsed": "false"
   },
   "source": [
    "При необходимости - очищение коллекции"
   ]
  },
  {
   "cell_type": "code",
   "execution_count": null,
   "metadata": {
    "Collapsed": "false"
   },
   "outputs": [],
   "source": [
    "# news_from_3_sites.delete_many({})"
   ]
  },
  {
   "cell_type": "code",
   "execution_count": null,
   "metadata": {
    "Collapsed": "false"
   },
   "outputs": [],
   "source": []
  }
 ],
 "metadata": {
  "kernelspec": {
   "display_name": "Python 3",
   "language": "python",
   "name": "python3"
  },
  "language_info": {
   "codemirror_mode": {
    "name": "ipython",
    "version": 3
   },
   "file_extension": ".py",
   "mimetype": "text/x-python",
   "name": "python",
   "nbconvert_exporter": "python",
   "pygments_lexer": "ipython3",
   "version": "3.7.6"
  }
 },
 "nbformat": 4,
 "nbformat_minor": 4
}
