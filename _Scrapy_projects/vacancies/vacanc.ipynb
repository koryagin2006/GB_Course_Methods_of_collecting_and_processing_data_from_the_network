{
 "cells": [
  {
   "cell_type": "markdown",
   "metadata": {
    "Collapsed": "false"
   },
   "source": [
    "# Задание"
   ]
  },
  {
   "cell_type": "markdown",
   "metadata": {
    "Collapsed": "false"
   },
   "source": [
    "### Подключение библиотек"
   ]
  },
  {
   "cell_type": "code",
   "execution_count": 56,
   "metadata": {
    "Collapsed": "false"
   },
   "outputs": [],
   "source": [
    "from pymongo import MongoClient\n",
    "from pprint import pprint\n",
    "import json\n",
    "import pandas as pd"
   ]
  },
  {
   "cell_type": "markdown",
   "metadata": {
    "Collapsed": "false"
   },
   "source": [
    "## 1. Развернуть у себя на компьютере/виртуальной машине/хостинге MongoDB и реализовать функцию, записывающую собранные вакансии в созданную БД"
   ]
  },
  {
   "cell_type": "code",
   "execution_count": 57,
   "metadata": {
    "Collapsed": "false"
   },
   "outputs": [],
   "source": [
    "client = MongoClient('localhost',27017)\n",
    "\n",
    "db = client['vacansies']  # создание БД\n",
    "coll = db.java"
   ]
  },
  {
   "cell_type": "code",
   "execution_count": 58,
   "metadata": {
    "Collapsed": "false"
   },
   "outputs": [
    {
     "data": {
      "text/html": [
       "<div>\n",
       "<style scoped>\n",
       "    .dataframe tbody tr th:only-of-type {\n",
       "        vertical-align: middle;\n",
       "    }\n",
       "\n",
       "    .dataframe tbody tr th {\n",
       "        vertical-align: top;\n",
       "    }\n",
       "\n",
       "    .dataframe thead th {\n",
       "        text-align: right;\n",
       "    }\n",
       "</style>\n",
       "<table border=\"1\" class=\"dataframe\">\n",
       "  <thead>\n",
       "    <tr style=\"text-align: right;\">\n",
       "      <th></th>\n",
       "      <th>vacancy_name</th>\n",
       "      <th>company</th>\n",
       "      <th>salary_min</th>\n",
       "      <th>salary_max</th>\n",
       "      <th>vacancy_link</th>\n",
       "    </tr>\n",
       "  </thead>\n",
       "  <tbody>\n",
       "    <tr>\n",
       "      <th>1169</th>\n",
       "      <td>Программист Научный сотрудник (доцент /професс...</td>\n",
       "      <td>ООО Бриз</td>\n",
       "      <td>300000.0</td>\n",
       "      <td>500000.0</td>\n",
       "      <td>https://orenburg.hh.ru/vacancy/36356940?query=...</td>\n",
       "    </tr>\n",
       "    <tr>\n",
       "      <th>1908</th>\n",
       "      <td>Android senior developer</td>\n",
       "      <td>BestDoctor</td>\n",
       "      <td>170000.0</td>\n",
       "      <td>350000.0</td>\n",
       "      <td>https://orenburg.hh.ru/vacancy/35531970?query=...</td>\n",
       "    </tr>\n",
       "    <tr>\n",
       "      <th>144</th>\n",
       "      <td>Middle/Senior Android Developer</td>\n",
       "      <td>Postuf</td>\n",
       "      <td>150000.0</td>\n",
       "      <td>350000.0</td>\n",
       "      <td>https://orenburg.hh.ru/vacancy/36632846?query=...</td>\n",
       "    </tr>\n",
       "    <tr>\n",
       "      <th>175</th>\n",
       "      <td>Java Developer</td>\n",
       "      <td>ООО Номия</td>\n",
       "      <td>NaN</td>\n",
       "      <td>350000.0</td>\n",
       "      <td>https://orenburg.hh.ru/vacancy/36494564?query=...</td>\n",
       "    </tr>\n",
       "    <tr>\n",
       "      <th>1626</th>\n",
       "      <td>Senior/Team Lead Android</td>\n",
       "      <td>ООО Моризо Диджитал</td>\n",
       "      <td>150000.0</td>\n",
       "      <td>350000.0</td>\n",
       "      <td>https://orenburg.hh.ru/vacancy/36720385?query=...</td>\n",
       "    </tr>\n",
       "    <tr>\n",
       "      <th>...</th>\n",
       "      <td>...</td>\n",
       "      <td>...</td>\n",
       "      <td>...</td>\n",
       "      <td>...</td>\n",
       "      <td>...</td>\n",
       "    </tr>\n",
       "    <tr>\n",
       "      <th>1940</th>\n",
       "      <td>Senior Java developer</td>\n",
       "      <td>Метр Квадратный</td>\n",
       "      <td>230000.0</td>\n",
       "      <td>NaN</td>\n",
       "      <td>https://orenburg.hh.ru/vacancy/32400342?query=...</td>\n",
       "    </tr>\n",
       "    <tr>\n",
       "      <th>1941</th>\n",
       "      <td>Middle/Senior java developer</td>\n",
       "      <td>ООО Коркласс</td>\n",
       "      <td>NaN</td>\n",
       "      <td>NaN</td>\n",
       "      <td>https://orenburg.hh.ru/vacancy/36558447?query=...</td>\n",
       "    </tr>\n",
       "    <tr>\n",
       "      <th>1944</th>\n",
       "      <td>Java developer - LDC</td>\n",
       "      <td>Deutsche Bank Technology Center</td>\n",
       "      <td>180000.0</td>\n",
       "      <td>NaN</td>\n",
       "      <td>https://orenburg.hh.ru/vacancy/36774330?query=...</td>\n",
       "    </tr>\n",
       "    <tr>\n",
       "      <th>1945</th>\n",
       "      <td>Java-разработчик</td>\n",
       "      <td>MANGO OFFICE</td>\n",
       "      <td>NaN</td>\n",
       "      <td>NaN</td>\n",
       "      <td>https://orenburg.hh.ru/vacancy/34142602?query=...</td>\n",
       "    </tr>\n",
       "    <tr>\n",
       "      <th>1946</th>\n",
       "      <td>Java Backend-разработчик / Middle Java Developer</td>\n",
       "      <td>CarX Technologies</td>\n",
       "      <td>180000.0</td>\n",
       "      <td>NaN</td>\n",
       "      <td>https://orenburg.hh.ru/vacancy/36420260?query=...</td>\n",
       "    </tr>\n",
       "  </tbody>\n",
       "</table>\n",
       "<p>1948 rows × 5 columns</p>\n",
       "</div>"
      ],
      "text/plain": [
       "                                           vacancy_name  \\\n",
       "1169  Программист Научный сотрудник (доцент /професс...   \n",
       "1908                           Android senior developer   \n",
       "144                     Middle/Senior Android Developer   \n",
       "175                                      Java Developer   \n",
       "1626                           Senior/Team Lead Android   \n",
       "...                                                 ...   \n",
       "1940                              Senior Java developer   \n",
       "1941                       Middle/Senior java developer   \n",
       "1944                               Java developer - LDC   \n",
       "1945                                   Java-разработчик   \n",
       "1946   Java Backend-разработчик / Middle Java Developer   \n",
       "\n",
       "                              company  salary_min  salary_max  \\\n",
       "1169                         ООО Бриз    300000.0    500000.0   \n",
       "1908                       BestDoctor    170000.0    350000.0   \n",
       "144                            Postuf    150000.0    350000.0   \n",
       "175                         ООО Номия         NaN    350000.0   \n",
       "1626              ООО Моризо Диджитал    150000.0    350000.0   \n",
       "...                               ...         ...         ...   \n",
       "1940                  Метр Квадратный    230000.0         NaN   \n",
       "1941                     ООО Коркласс         NaN         NaN   \n",
       "1944  Deutsche Bank Technology Center    180000.0         NaN   \n",
       "1945                     MANGO OFFICE         NaN         NaN   \n",
       "1946                CarX Technologies    180000.0         NaN   \n",
       "\n",
       "                                           vacancy_link  \n",
       "1169  https://orenburg.hh.ru/vacancy/36356940?query=...  \n",
       "1908  https://orenburg.hh.ru/vacancy/35531970?query=...  \n",
       "144   https://orenburg.hh.ru/vacancy/36632846?query=...  \n",
       "175   https://orenburg.hh.ru/vacancy/36494564?query=...  \n",
       "1626  https://orenburg.hh.ru/vacancy/36720385?query=...  \n",
       "...                                                 ...  \n",
       "1940  https://orenburg.hh.ru/vacancy/32400342?query=...  \n",
       "1941  https://orenburg.hh.ru/vacancy/36558447?query=...  \n",
       "1944  https://orenburg.hh.ru/vacancy/36774330?query=...  \n",
       "1945  https://orenburg.hh.ru/vacancy/34142602?query=...  \n",
       "1946  https://orenburg.hh.ru/vacancy/36420260?query=...  \n",
       "\n",
       "[1948 rows x 5 columns]"
      ]
     },
     "execution_count": 58,
     "metadata": {},
     "output_type": "execute_result"
    }
   ],
   "source": [
    "x = []\n",
    "for i in coll.find():\n",
    "    x.append(i)\n",
    "df = pd.DataFrame(x)\n",
    "df_1 = df[['vacancy_name', 'company', 'salary_min', 'salary_max','vacancy_link']]\n",
    "df_1.sort_values(by='salary_max', ascending=False)"
   ]
  },
  {
   "cell_type": "code",
   "execution_count": 59,
   "metadata": {
    "Collapsed": "false"
   },
   "outputs": [],
   "source": [
    "df_1.to_excel(r'C:\\Users\\carne\\Desktop\\1.xlsx')"
   ]
  },
  {
   "cell_type": "code",
   "execution_count": null,
   "metadata": {
    "Collapsed": "false"
   },
   "outputs": [],
   "source": []
  }
 ],
 "metadata": {
  "kernelspec": {
   "display_name": "Python 3",
   "language": "python",
   "name": "python3"
  },
  "language_info": {
   "codemirror_mode": {
    "name": "ipython",
    "version": 3
   },
   "file_extension": ".py",
   "mimetype": "text/x-python",
   "name": "python",
   "nbconvert_exporter": "python",
   "pygments_lexer": "ipython3",
   "version": "3.7.6"
  }
 },
 "nbformat": 4,
 "nbformat_minor": 4
}
